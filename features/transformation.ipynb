{
 "cells": [
  {
   "cell_type": "markdown",
   "metadata": {},
   "source": [
    "## Ziele\n",
    "* Grundlegende Transformationsmethoden kennen\n",
    "* Grundlagen von Scikit-learn für Pipelines verstehen\n",
    "* Transformationen in Pipelines organisieren\n",
    "\n",
    "## Inhalt\n",
    "In diesem Abschnitt werden gängige Methoden gezeigt, die nach der Aufbereitung der Daten und vor dem Trainieren eines Machine Learning Modells Verwendung finden. Im Abschnitt Aufbereitung wurde ein Überblick der Daten geschaffen, fehlende Daten behandelt und die Daten in Datensets aufgeteilt. Theoretisch könnte jetzt mit dem Trainieren eines Modells gestartet werden. Praktisch macht es meist Sinn weitere Schritte durchzuführen bevor ein erstes Training stattfindet. Es gibt eine Vielzahl von Möglichkeiten. Einige gängige Methoden eignen sich in zahlreichen Anwendungsfällen. In diesem Abschnitt werden eine Auswahl von gängigen Transformationen beschrieben und jeweils an einem Beispiel angewendet. \n",
    "\n",
    "Transformationen für numerische Daten\n",
    "* Ausreißer erkennen und entfernen\n",
    "* Min-Max-Skalierung\n",
    "* Standardisierung\n",
    "* Diskretisierung\n",
    "\n",
    "Transformation für kategorische Daten\n",
    "* One-Hot Encoding\n",
    "\n",
    "Am Beispieldatenset Titanic werden die Methoden veranschaulicht. Darauf folgt eine Übung in der Sie selbst die Transformationsmethoden am Beispieldatenset Bike Buyers durchführen."
   ]
  }
 ],
 "metadata": {
  "kernelspec": {
   "display_name": "Python 3",
   "language": "python",
   "name": "python3"
  },
  "language_info": {
   "codemirror_mode": {
    "name": "ipython",
    "version": 3
   },
   "file_extension": ".py",
   "mimetype": "text/x-python",
   "name": "python",
   "nbconvert_exporter": "python",
   "pygments_lexer": "ipython3",
   "version": "3.7.6"
  }
 },
 "nbformat": 4,
 "nbformat_minor": 4
}
