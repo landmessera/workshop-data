{
 "cells": [
  {
   "cell_type": "markdown",
   "metadata": {},
   "source": [
    "# Start : der Wegweiser"
   ]
  },
  {
   "cell_type": "markdown",
   "metadata": {},
   "source": [
    "## Die ersten Schritte"
   ]
  },
  {
   "cell_type": "markdown",
   "metadata": {},
   "source": [
    "### 1. Lesen der Inhalte von Teil 1  \n",
    "Sie erarbeiten die Inhalte von Teil 1 - Aufbereitung durch Lesen und festigen die Inhalte durch Zwischenfragen.\n",
    "\n",
    "Lesen Sie hierzu folgende Seiten\n",
    "* Ziele\n",
    "* Überblick verschaffen\n",
    "* Umgang mit fehlenden Daten\n",
    "* Datensets erstellen\n",
    "\n",
    "### 2. Übung durchführen von Teil 1\n",
    "Die Übungen werden anhand des Datenset \"Bike Buyers\" durchgeführt. Lesen Sie zunächst die **Beschreibung des Datensets** im nächsten Kapitel. Öffnen Sie die **Seite \"Übung\"** unter \"Teil 1 - Aufbereitung\"\n",
    "\n",
    "Für die Übungen wird Ihnen online eine **Entwicklungsumgebung** bereitgestellt. Wie das funktioniert erfahren Sie im Abschnitt \"Wie werden die Übungen durchgeführt. \n",
    "\n",
    "### 3. Teilnehmen am Online Meeting zu Teil 1\n",
    "Das Online Meeting am 10.08.21 von 10.00 - 11.00 Uhr dient zum Austausch, Beantwortung von Fragen und Lösen von Problemen. Einer der **KI-TrainerInnen** wird anwesend sein und dabei unterstützen.\n",
    "\n",
    "Diese 3 Schritte wiederholen sich für alle drei Teile. \n",
    "\n",
    "## Zeitplan\n",
    "\n",
    "Teil 1  \n",
    "**03.08.-10.08.21**: Inhalte und Übung im Selbststudium erarbeiten  \n",
    "**10.08.21**, 10:00 - 11:00 Uhr: Online Meeting  \n",
    "\n",
    "Teil 2  \n",
    "**11.08.-17.08.21**: Inhalte und Übung im Selbststudium erarbeiten  \n",
    "**17.08.21**, 10:00 - 11:00 Uhr: Online Meeting  \n",
    "\n",
    "Teil 3  \n",
    "**18.-24.08.21**: Inhalte und Übung im Selbststudium erarbeiten  \n",
    "**24.08.21**, 10:00 - 11:00 Uhr: Online Meeting  \n",
    "\n",
    "\n",
    "\n"
   ]
  },
  {
   "cell_type": "markdown",
   "metadata": {},
   "source": [
    "## Wie werden die Übungen durchgeführt?\n",
    "\n",
    "### Öffnen der Seite \"Übung\"\n",
    "```{figure} ../images/exOpen.png\n",
    "---\n",
    "height: 170px\n",
    "align: left\n",
    "name: fig-ex-open\n",
    "---\n",
    "```\n",
    "\n",
    "### Starten der Entwicklungsumgebung\n",
    "\n",
    "Starten der Entwicklungsumgebung durch Live-Code-Button\n",
    "```{figure} ../images/exStartKernel.png\n",
    "---\n",
    "height: 110px\n",
    "align: left\n",
    "name: fig-ex-start-kernel\n",
    "---\n",
    "```\n",
    "\n",
    "### Warten bis Server läuft\n",
    "Bitte haben Sie Geduld, es kann einige Minuten dauern, bis die Entwicklungsumgebung bereit ist. Solange der Startvorgang dauert wird der Status \"building\" angezeigt.  \n",
    "```{figure} ../images/exBuilding.png\n",
    "---\n",
    "height: 120px\n",
    "align: left\n",
    "name: fig-ex-building\n",
    "---\n",
    "```\n",
    "\n",
    "Die Entwicklungsumgebung ist bereit, wenn im Status \"ready\" angezeigt wird.\n",
    "\n",
    "```{figure} ../images/exReady.png\n",
    "---\n",
    "height: 130px\n",
    "align: left\n",
    "name: fig-ex-ready\n",
    "---\n",
    "```\n",
    "\n",
    "In jeder Code-Zelle wird nun ein \"Run\"- und \"Restart\"-Button angezeigt.\n",
    "```{figure} ../images/exReadyRun.png\n",
    "---\n",
    "height: 450px\n",
    "align: left\n",
    "name: fig-ex-ready-run\n",
    "---\n",
    "```\n",
    "\n",
    "### Code schreiben und ausführen\n",
    "Schreiben Sie nun selbst die erste Zeile Code. Löschen Sie die Zeile \"# Geben Sie hier Ihren Code ein\" in der Übungsaufgabe \"Task 1\" und fügen Sie folgenden Befehl ein:\n",
    "\n",
    "```{code-block} python\n",
    "data.head()\n",
    "```\n",
    "\n",
    "Code-Zelle mit eingefügtem Befehl:\n",
    "```{figure} ../images/exCode.png\n",
    "---\n",
    "height: 150px\n",
    "align: left\n",
    "name: fig-ex-code\n",
    "---\n",
    "```\n",
    "\n",
    "Führen Sie die Code-Zelle durch drücken des \"Run\"-Buttons aus.\n",
    "```{figure} ../images/exCodeRun.png\n",
    "---\n",
    "height: 350px\n",
    "align: left\n",
    "name: fig-ex-code-run\n",
    "---\n",
    "```\n",
    "\n",
    "```{admonition} Wichtig\n",
    "Eingaben werden **<font color='red'>nicht gespeichert</font>**. Bitte beachten Sie folgende Punkte\n",
    "* Das Browserfenster während der Übung **nicht schließen**\n",
    "* Die Seite während der Übung **nicht neu laden**\n",
    "* Führen Sie den \"restart\"-Button **nicht aus**\n",
    "\n",
    "Sollte doch einmal ein Browserfenster geschlossen oder die Seite neu geladen werden, kopieren Sie die Lösungen der bereits abgeschlossenen Aufgaben, indem Sie\n",
    "* das Dropdown \"Lösung\" der jeweiligen Aufgabe öffnen\n",
    "* rechts oben im Code-Block den Button \"kopieren\" drücken\n",
    "* in die Code-Zelle für die Aufgabe klicken\n",
    "* mit \"Strg+V\" die kopierten Inhalte einfügen\n",
    "* und den \"Run\"-Button drücken\n",
    "\n",
    "```"
   ]
  },
  {
   "cell_type": "markdown",
   "metadata": {},
   "source": [
    "## Was tun wenn Fragen oder Probleme aufkommen?"
   ]
  },
  {
   "cell_type": "markdown",
   "metadata": {},
   "source": [
    "Handelt es sich um **technische Fragen oder Probleme**, wie z.B. Die Entwicklungsumgebung startet nicht oder sie können auf die Inhalte nicht zugreifen, kontaktieren Sie die KI-TrainerInnen gerne direkt über folgende E-Mail-Adresse:\n",
    "\n",
    "> ki-trainer@kompetenzzentrum-usability.digital\n",
    "\n",
    "Sollten Sie **Fragen zu theoretischen Inhalten oder den Übungen** haben, notieren Sie sich diese bitte. Im Online-Meeting am Ende des jeweiligen Teils können Sie Ihre Fragen gemeinsam mit den anderen Teilnehmern und KI-TrainerInnen diskutieren.  \n",
    "\n",
    "\n"
   ]
  },
  {
   "cell_type": "markdown",
   "metadata": {},
   "source": [
    "## Was der Kurs nicht ist"
   ]
  },
  {
   "cell_type": "markdown",
   "metadata": {},
   "source": [
    "Dieser Online Kurs hat **<font color='red'>nicht den Anspruch</font>**\n",
    " \n",
    "* auf **Performance** optimierte Umsetzungsvorschläge zu liefern\n",
    "  > sondern Vorschläge für erste <font color='green'>prototypische Umsetzungen</font> zu liefern\n",
    "* spezielle Methoden für **sämtliche Datenarten** wie z.B. Bild- und Textdaten zu besprechen\n",
    "  > das sind zum Teil <font color='green'>eigenständige Themengebiete</font>  und würden den Rahmen dieses Kurses sprengen\n",
    "* **alle möglichen Methoden** zur Datenaufbereitung, - transformation und Optimierung zu vermitteln\n",
    "  > es geht viel mehr darum die <font color='green'>grundlegende Vorgehensweise</font>  zu vermitteln. Hat man die Grundlagen verstanden können weitere Methoden selbst online recherchiert werden. \n",
    "  \n",
    "## Unsere Herangehensweise\n",
    "\n",
    "Auf Basis unserer Erfahrung, empfehlen wir\n",
    "* die **Grundlagen gut zu verstehen** \n",
    "  > hierzu dient dieser Online-Kurs\n",
    "* darauf aufbauen, praktische Erfahrung sammeln und das **Wissen erweitern**\n",
    "\n",
    "Jetzt wünschen wir **viel Spaß** beim Online-Kurs."
   ]
  }
 ],
 "metadata": {
  "kernelspec": {
   "display_name": "Python 3",
   "language": "python",
   "name": "python3"
  },
  "language_info": {
   "codemirror_mode": {
    "name": "ipython",
    "version": 3
   },
   "file_extension": ".py",
   "mimetype": "text/x-python",
   "name": "python",
   "nbconvert_exporter": "python",
   "pygments_lexer": "ipython3",
   "version": "3.7.6"
  }
 },
 "nbformat": 4,
 "nbformat_minor": 4
}
