{
 "cells": [
  {
   "cell_type": "markdown",
   "metadata": {},
   "source": [
    "# FAQ"
   ]
  },
  {
   "cell_type": "markdown",
   "metadata": {},
   "source": [
    "## Übungen"
   ]
  },
  {
   "cell_type": "markdown",
   "metadata": {},
   "source": [
    "### Ich möchte die Übungen offline durchführen, ist es möglich den Datensatz zu erhalten?"
   ]
  },
  {
   "cell_type": "markdown",
   "metadata": {},
   "source": [
    "Der Datensatz für die Übung können Sie sich unter folgendem Link herunterladen:"
   ]
  },
  {
   "cell_type": "code",
   "execution_count": 13,
   "metadata": {
    "tags": [
     "hide-input"
    ]
   },
   "outputs": [
    {
     "data": {
      "text/html": [
       "<a href='../data/bikebuyers/bike_buyers.csv' target='_blank'>../data/bikebuyers/bike_buyers.csv</a><br>"
      ],
      "text/plain": [
       "/Users/alandmesser/git/books/workshop-data/data/bikebuyers/bike_buyers.csv"
      ]
     },
     "execution_count": 13,
     "metadata": {},
     "output_type": "execute_result"
    }
   ],
   "source": [
    "from IPython.display import FileLink\n",
    "FileLink('../data/bikebuyers/bike_buyers.csv')"
   ]
  },
  {
   "cell_type": "markdown",
   "metadata": {},
   "source": [
    "Weitere Dateien für die Durchführung der Übungen offline:"
   ]
  },
  {
   "cell_type": "code",
   "execution_count": 11,
   "metadata": {
    "tags": [
     "hide-input"
    ]
   },
   "outputs": [
    {
     "data": {
      "text/html": [
       "<a href='../output/bikebuyers/datasets.pkl' target='_blank'>../output/bikebuyers/datasets.pkl</a><br>"
      ],
      "text/plain": [
       "/Users/alandmesser/git/books/workshop-data/output/bikebuyers/datasets.pkl"
      ]
     },
     "metadata": {},
     "output_type": "display_data"
    },
    {
     "data": {
      "text/html": [
       "<a href='../output/bikebuyers/transformer_pipeline.pkl' target='_blank'>../output/bikebuyers/transformer_pipeline.pkl</a><br>"
      ],
      "text/plain": [
       "/Users/alandmesser/git/books/workshop-data/output/bikebuyers/transformer_pipeline.pkl"
      ]
     },
     "metadata": {},
     "output_type": "display_data"
    },
    {
     "data": {
      "text/html": [
       "<a href='../output/bikebuyers/datesets_transformed.pkl' target='_blank'>../output/bikebuyers/datesets_transformed.pkl</a><br>"
      ],
      "text/plain": [
       "/Users/alandmesser/git/books/workshop-data/output/bikebuyers/datesets_transformed.pkl"
      ]
     },
     "metadata": {},
     "output_type": "display_data"
    }
   ],
   "source": [
    "display(FileLink('../output/bikebuyers/datasets.pkl'))\n",
    "display(FileLink('../output/bikebuyers/transformer_pipeline.pkl'))\n",
    "display(FileLink('../output/bikebuyers/datesets_transformed.pkl'))"
   ]
  }
 ],
 "metadata": {
  "kernelspec": {
   "display_name": "Python 3",
   "language": "python",
   "name": "python3"
  },
  "language_info": {
   "codemirror_mode": {
    "name": "ipython",
    "version": 3
   },
   "file_extension": ".py",
   "mimetype": "text/x-python",
   "name": "python",
   "nbconvert_exporter": "python",
   "pygments_lexer": "ipython3",
   "version": "3.7.6"
  }
 },
 "nbformat": 4,
 "nbformat_minor": 4
}
