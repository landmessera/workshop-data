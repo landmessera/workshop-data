{
 "cells": [
  {
   "cell_type": "markdown",
   "metadata": {},
   "source": [
    "# Merkmalsoptimierung"
   ]
  },
  {
   "cell_type": "markdown",
   "metadata": {},
   "source": [
    "In den vorigen Abschnitten wurde eine Basis für die Anwendung von Machine Learning Verfahren geschaffen und ein erstes Ergebnis erzielt. Es wurden auch erste Optimierungen durchgeführt, die sich auf die Parameter der Transformationen und Hyperparameter der Machine Learning Algorithmen konzentrierten. In diesem Abschnitt wird auf die Optimierung in Bezug auf die Merkmale eingegangen. In den meisten Anwendungsfällen bringt diese Art von Optimierung - wenn Sie qualitativ hochwertig ist - die größte Leistungssteigerung. Bei der Merkmalsoptimierung ist häufig eine gute Kenntnis der Domäne erforderlich. \n",
    "\n",
    "Auch im Umfeld der Merkmalsoptimierung existieren eine Vielzahl von Methoden. Es werden eine kleine Auswahl vorgestellt um ein Verständnis des Vorgehens zu erlangen.\n",
    "\n"
   ]
  },
  {
   "cell_type": "code",
   "execution_count": null,
   "metadata": {},
   "outputs": [],
   "source": [
    "Visualisierung der Daten um Erkenntnisse zu gewinnen\n",
    "* Suche nach Korrelkationen (scatter matrix von pandas?)"
   ]
  },
  {
   "cell_type": "markdown",
   "metadata": {},
   "source": [
    "Most important features / Nützliche Features identifizieren"
   ]
  },
  {
   "cell_type": "markdown",
   "metadata": {},
   "source": [
    "Neue Features erstellen\n",
    "* Experimentieren mit Kombinationen von Merkmalen"
   ]
  },
  {
   "cell_type": "markdown",
   "metadata": {},
   "source": [
    "Clustering mit K-Means"
   ]
  },
  {
   "cell_type": "markdown",
   "metadata": {},
   "source": [
    "PCA"
   ]
  }
 ],
 "metadata": {
  "kernelspec": {
   "display_name": "Python 3",
   "language": "python",
   "name": "python3"
  },
  "language_info": {
   "codemirror_mode": {
    "name": "ipython",
    "version": 3
   },
   "file_extension": ".py",
   "mimetype": "text/x-python",
   "name": "python",
   "nbconvert_exporter": "python",
   "pygments_lexer": "ipython3",
   "version": "3.7.6"
  }
 },
 "nbformat": 4,
 "nbformat_minor": 4
}
