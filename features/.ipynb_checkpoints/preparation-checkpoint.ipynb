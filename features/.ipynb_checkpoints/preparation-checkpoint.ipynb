{
 "cells": [
  {
   "cell_type": "markdown",
   "metadata": {},
   "source": [
    "# Aufbereitung"
   ]
  },
  {
   "cell_type": "markdown",
   "metadata": {},
   "source": [
    "Ziele:\n",
    "* Einen ersten Eindruck von den Daten gewinnen  \n",
    "* Grundlegendes Verständnis der Daten \n",
    "* Grundlegende Statistiken erheben und visualisieren\n",
    "* Fehlende Daten ermitteln\n",
    "* Umgang mit fehlenden Daten"
   ]
  },
  {
   "cell_type": "markdown",
   "metadata": {},
   "source": [
    "## Das Datenset Titanic\n",
    "Um die Techniken zu erklären wird das Datenset \"Titanic\" verwendet.\n",
    "\n",
    "```{figure} ../images/titanic.jpeg\n",
    "---\n",
    "height: 350px\n",
    "align: left\n",
    "name: fig-titanic\n",
    "---\n",
    "```"
   ]
  },
  {
   "cell_type": "markdown",
   "metadata": {},
   "source": [
    "<div style=\"font-size: 8px;\">Quelle: https://de.wikipedia.org/wiki/RMS_Titanic#/media/Datei:RMS_Titanic_3.jpg</div>\n",
    "<div style=\"font-size: 14px;\">Der Untergang der Titanic ist eines der berüchtigtsten Schiffsunglücke der Geschichte.\n",
    "\n",
    "Am 15. April 1912, während ihrer Jungfernfahrt, sank die weithin als \"unsinkbar\" geltende RMS Titanic nach der Kollision mit einem Eisberg. Unglücklicherweise gab es nicht genügend Rettungsboote für alle an Bord, was zum Tod von 1502 der 2224 Passagiere und der Besatzung führte.\n",
    "\n",
    "Obwohl das Überleben auch ein gewisses Glückselement beinhaltete, scheint es, dass einige Gruppen von Menschen eher überlebten als andere.\n",
    "\n",
    "**Die Aufgabe des Datensets**  \n",
    "Erstellen Sie ein Vorhersagemodell, das die Frage beantwortet: \"Welche Arten von Menschen überlebten mit größerer Wahrscheinlichkeit?\" unter Verwendung von Passagierdaten (d. h. Name, Alter, Geschlecht, sozioökonomische Klasse usw.).\n",
    "\n",
    "Um ein Vorhersagemodell erstellen zu können, müssen die Daten aufbereitet und tranformiert werden. Außerdem können Feature Engineering Methoden zu einem besseren Ergebnis führen. Anhand des Beispiel-Datenset Titanic werden Methoden zur\n",
    "* Aufbereitung\n",
    "* Transformierung\n",
    "* und Feature Engineering  \n",
    "\n",
    "erläutert. Im Anschluss werden die gelernten Methoden anhand des Datenset \"Bike Buyers\" erprobt.\n",
    "</div>"
   ]
  }
 ],
 "metadata": {
  "kernelspec": {
   "display_name": "Python 3",
   "language": "python",
   "name": "python3"
  },
  "language_info": {
   "codemirror_mode": {
    "name": "ipython",
    "version": 3
   },
   "file_extension": ".py",
   "mimetype": "text/x-python",
   "name": "python",
   "nbconvert_exporter": "python",
   "pygments_lexer": "ipython3",
   "version": "3.7.6"
  }
 },
 "nbformat": 4,
 "nbformat_minor": 4
}
