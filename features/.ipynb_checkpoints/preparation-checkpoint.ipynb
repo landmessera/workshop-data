{
 "cells": [
  {
   "cell_type": "markdown",
   "metadata": {},
   "source": [
    "## Ziele\n",
    "* Einen ersten Eindruck von den Daten gewinnen  \n",
    "* Grundlegendes Verständnis der Daten \n",
    "* Grundlegende Statistiken erheben und visualisieren\n",
    "* Fehlende Daten ermitteln\n",
    "* Umgang mit fehlenden Daten\n",
    "* Datensets erstellen\n",
    "\n",
    "## Inhalt\n",
    "\n",
    "Im ersten Teil geht es darum zu Lernen wie man einen ersten Eindruck von Daten erhält. Es wird gezeigt wie man **grundlegende Statistiken** einfach erhebt und **Datentypen** der Merkmale korrekt bestimmt. Insbesondere die Datentypen sind sehr wichtig, um eine gute Grundlage für das nächste Kapitel \"Transformation\" zu schaffen. Ein weiterer wichtiger Grundstein für eine erfolgreiche Anwendung von Machine Learning Verfahren ist der **Umgang mit fehlenden Daten**. Die meisten Machine Learning Verfahren können mit Datenlücken nicht umgehen. Hierzu werden Methoden aufgezeigt und anhand dem Beispiel-Datenset Titanic veranschaulicht. Zuletzt werden **Datensets** besprochen. Wozu diese notwendig sind, warum es so wichtig ist die Datensets mit Sorgfalt zu erstellen und wie die Umsetzung erfolgen kann."
   ]
  },
  {
   "cell_type": "markdown",
   "metadata": {
    "tags": [
     "remove-cell"
    ]
   },
   "source": [
    "Wozu ist eine Datenaufbereitung notwendig? Muss ich die Daten überhaupt verstehen? Übernehmen das nicht die Machine Learning Verfahren? Ja und nein. \n",
    "\n",
    "Ein Machine Learning Verfahren lernt aus Daten die Parameter für ein Modell. Beim Lernen findet auf Basis einer Vielzahl von Beispielen eine Generalisierung statt. \n",
    "\n",
    "- was gelernt werden soll (Welche spezielle Aufgabe das Machine learnining Verfahren übernehmen soll, wie z.B. Klasifizieren oder Clustern)\n",
    "- wie generalisiert wird (welcher Algorithmus, mit welchen Einstellungen)\n",
    "- von welchen Daten gelernt wird\n",
    "entscheidet der Mensch. \n",
    "\n",
    "Wir wissen meist welche Schwächen und Stärken ein Machine Learning Verfahren hat und wie man die Daten optimal "
   ]
  }
 ],
 "metadata": {
  "kernelspec": {
   "display_name": "Python 3",
   "language": "python",
   "name": "python3"
  },
  "language_info": {
   "codemirror_mode": {
    "name": "ipython",
    "version": 3
   },
   "file_extension": ".py",
   "mimetype": "text/x-python",
   "name": "python",
   "nbconvert_exporter": "python",
   "pygments_lexer": "ipython3",
   "version": "3.7.6"
  }
 },
 "nbformat": 4,
 "nbformat_minor": 4
}
