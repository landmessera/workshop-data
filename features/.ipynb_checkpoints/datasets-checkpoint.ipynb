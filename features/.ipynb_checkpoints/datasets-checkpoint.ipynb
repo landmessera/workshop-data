{
 "cells": [
  {
   "cell_type": "markdown",
   "metadata": {},
   "source": [
    "# Datensets"
   ]
  },
  {
   "cell_type": "markdown",
   "metadata": {},
   "source": [
    "## Datenset Titanic\n",
    "Um die Techniken zu erklären wird das Datenset \"Titanic\" verwendet.\n",
    "\n",
    "```{figure} ../images/titanic.jpeg\n",
    "---\n",
    "height: 350px\n",
    "align: left\n",
    "name: fig-titanic\n",
    "---\n",
    "```"
   ]
  },
  {
   "cell_type": "markdown",
   "metadata": {},
   "source": [
    "<div style=\"font-size: 8px;\">Quelle: https://de.wikipedia.org/wiki/RMS_Titanic#/media/Datei:RMS_Titanic_3.jpg</div>\n",
    "<div style=\"font-size: 14px;\">Der Untergang der Titanic ist eines der berüchtigsten Schiffsunglücke der Geschichte.\n",
    "\n",
    "Am 15. April 1912, während ihrer Jungfernfahrt, sank die weithin als \"unsinkbar\" geltende RMS Titanic nach der Kollision mit einem Eisberg. Unglücklicherweise gab es nicht genügend Rettungsboote für alle an Bord, was zum Tod von 1502 der 2224 Passagiere und der Besatzung führte.\n",
    "\n",
    "Obwohl das Überleben auch ein gewisses Glückselement beinhaltete, scheint es, dass einige Gruppen von Menschen eher überlebten als andere.\n",
    "\n",
    "**Die Aufgabe des Datensets**  \n",
    "Erstellen Sie ein Vorhersagemodell, das die Frage beantwortet: \"Welche Arten von Menschen überlebten mit höherer Wahrscheinlichkeit?\" unter Verwendung von Passagierdaten (d. h. Name, Alter, Geschlecht, sozioökonomische Klasse usw.).\n",
    "\n",
    "Um ein Vorhersagemodell erstellen zu können, müssen die Daten aufbereitet und transformiert werden. Außerdem können Feature Engineering Methoden zu einem besseren Ergebnis führen. Anhand des Beispiel-Datenset Titanic werden Methoden zur\n",
    "* Aufbereitung\n",
    "* Transformierung\n",
    "* und Optimierung \n",
    "\n",
    "erläutert. Im Anschluss werden die gelernten Methoden anhand des Datenset \"Bike Buyers\" erprobt.\n",
    "</div>"
   ]
  },
  {
   "cell_type": "markdown",
   "metadata": {},
   "source": [
    "## Datenset Bike Buyers"
   ]
  },
  {
   "cell_type": "markdown",
   "metadata": {},
   "source": [
    "```{figure} ../images/bikeshop.jpeg\n",
    "---\n",
    "height: 350px\n",
    "align: left\n",
    "name: fig-bikeshop\n",
    "---\n",
    "````"
   ]
  },
  {
   "cell_type": "markdown",
   "metadata": {},
   "source": [
    "<div style=\"font-size: 8px;\">Quelle: https://www.bikesnboards.de/media/wp-content/uploads/2019/05/bb_schorndorf_005.jpg</div>\n",
    "<div style=\"font-size: 14px;\">"
   ]
  },
  {
   "cell_type": "markdown",
   "metadata": {},
   "source": [
    "Das Datenset enthält eine Reihe von Informationen über Personen und eine Aussage, ob sich die Person ein Fahrrad gekauft hat oder nicht. Zu den Informationen zählen \n",
    "* ID\n",
    "* Familienstand\n",
    "* Alter\n",
    "* Geschlecht\n",
    "* Einkommen\n",
    "* Kinder\n",
    "* Bildung\n",
    "* Beruf\n",
    "* Eigenheimbesitzer\n",
    "* Autos\n",
    "* Pendeldistanz\n",
    "* Region\n",
    "\n",
    "**Die Aufgabe des Datensets**  \n",
    "Erstellen Sie ein Vorhersagemodell, das die Frage beantwortet: \"Welche Personen kaufen mit größerer Wahrscheinlichkeit ein Fahrrad?\" unter Verwendung der Informationen (d. h. Familienstand, Alter, Geschlecht, Einkommen, Kinder usw.)."
   ]
  }
 ],
 "metadata": {
  "kernelspec": {
   "display_name": "Python 3",
   "language": "python",
   "name": "python3"
  },
  "language_info": {
   "codemirror_mode": {
    "name": "ipython",
    "version": 3
   },
   "file_extension": ".py",
   "mimetype": "text/x-python",
   "name": "python",
   "nbconvert_exporter": "python",
   "pygments_lexer": "ipython3",
   "version": "3.7.6"
  }
 },
 "nbformat": 4,
 "nbformat_minor": 4
}
