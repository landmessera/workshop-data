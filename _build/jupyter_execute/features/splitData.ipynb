{
 "cells": [
  {
   "cell_type": "markdown",
   "metadata": {},
   "source": [
    "# Datensets erstellen"
   ]
  },
  {
   "cell_type": "markdown",
   "metadata": {},
   "source": [
    "Nachdem ein ersten Eindruck von den Daten verschafft und entschieden wurde, wie mit fehlenden Daten umgegangen wird, werden die Daten in einzelne Datensets aufgesplittet. \n",
    "\n",
    "**Warum ist eine Aufsplittung notwendig?** \n",
    "\n",
    "Beispiel:\n",
    "Familie Maier lebt mit Katze Felix in einem Haus. Die Katze bringt immer häufiger lebende Beute, meist Mäuse, mit ins Haus. Herr Maier ist ein Tierliebhaber, aber Mäuse möchte er nicht im Haus haben. Er hat eine Idee: Mit einem KI-System möchte er eine Katzenklappe entwickeln, die Katzen nur dann hinein lässt, wenn die Katze keine Beute mitbringt. Zunächst installiert er eine Kamera, sammelt 1000 Bilder und weist die Bilder manuell 4 Kategorien zu:\n",
    "1. keine Katze (350 Bilder)\n",
    "2. Felix von vorne (300 Bilder)\n",
    "3. Felix von hinten (300 Bilder)\n",
    "4. Felix mit Beute von vorne (50 Bilder)\n",
    "\n",
    "```{figure} ../images/catflap.jpg\n",
    "---\n",
    "height: 350px\n",
    "align: left\n",
    "name: fig-catflap\n",
    "---\n",
    "```\n",
    "<div style=\"font-size: 8px;\">Quelle: Andreas Göllner auf Pixabay</div>"
   ]
  },
  {
   "cell_type": "markdown",
   "metadata": {},
   "source": [
    "Als Standardfall (Kategorien 1-3) soll die Katzenklappe offen sein. Die Bilder der Kategorien 1-3 erhalten das Label \"offen\". Wenn Felix mit einer Beute vor der Katzenklappe steht (Kategorie 4), soll diese verriegelt werden. Die Kategorie 4 Bilder werden mit dem Label \"zu\" versehen. Herr Maier trainiert ein Machine Learning-Modell mit den 1000 Bildern und entsprechenden Labeln. Anschließend prüft er das trainierte Modell mit ingesamt 80 von den 1000 Bildern (40 mit dem Label \"offen\" und 40 mit dem Label \"gesperrt\". Alle 40 Bilder werden richtig erkannt. Herr Meier ist begeistert und nimmt das System in Betrieb. Am nächsten Morgen wird Herr Meier von einer Maus in der Küche begrüßt. \n",
    "\n",
    "**Was ist passiert?**\n",
    "\n",
    "Herr Maier hat mit den gleichen Bildern getestet, mit denen er auch das Modell trainiert hat. Das Modell hat die Bilder mit entsprechendem Label bereits gesehen und konnte so mit 100% Genauigkeit, alle Bilder richtig klassifizieren. Neue Bilder, der letzten Nacht, wurden falsch klassifiziert. Das Modell war also noch nicht gut genug um im Praxiseinsatz den Erwartungen zu entsprechen. "
   ]
  },
  {
   "cell_type": "markdown",
   "metadata": {},
   "source": [
    "```{Attention}\n",
    "Wichtig: Verwenden Sie nie Daten in der Testphase, die bereits für das Training verwendet wurden.\n",
    "```"
   ]
  },
  {
   "cell_type": "markdown",
   "metadata": {},
   "source": [
    "Herr Maier erstellt ein Testdatendset. Hierzu nimmt er neue Bilder auf und weißt manuell die Labels zu. Mit diesen neuen Bildern (50 mit dem Label \"offen\" und 50 mit dem Label \"gesperrt\") wird getestet. Es stellt sich heraus, dass die Erkennungsrate lediglich bei 70% liegt. Eine Erkennungsrate von 70% bedeutet, dass 70 von 100 Bilder richtig erkannt werden. Herr Meier vermutet, dass die Anzahl der Bilder für das Training nicht ausreichen. Es werden weitere 1000 Beispiel-Bilder erstellt. Es liegen jetzt 2000 Bilder folgender Kategorien für das Training vor:\n",
    "\n",
    "1. keine Katze (600 Bilder), Label \"offen\"\n",
    "2. Felix von vorne (600 Bilder), Label \"offen\"\n",
    "3. Felix von hinten (600 Bilder), Label \"offen\"\n",
    "4. Felix mit Beute von vorne (200 Bilder), Label \"gesperrt\"\n",
    "\n",
    "Anschließend testet Herr Maier erneut mit dem erstellten Testdatenset. Das Ergebnis liegt jetzt bei einer Erkennungsrate von 90%. Damit ist Herr Maier zufrieden und nimmt das Modell erneut in Betrieb. Einige Wochen hat Herr Maier Ruhe vor ungewünschten Beutetieren in der Wohnung. Hin und wieder kommt es jedoch vor, dass eine Fehlentscheidung vom System getroffen wird, ca. wie erwartet sind 10% der Klassifikationen fehlerhaft. Herr Maier möchte das Modell weiter verbessern. Dieses Mal versucht er die Hyperparameter des Modells zu verbessern. Im Gegensatz zu Parameter eines Modells, die während der Trainingsphase gelernt werden, sind Hyperparameter, Parameter, die Einstellungen am Algorithmus selbst erlauben. Im Fall des eingesetzten Neuronalen Netz, experimentiert Herr Maier mit der Netzarchitektur (Anzahl der Hidden Layer und die Lernrate werden variiert). Die Optimierungsversuche werden in mehreren hundert Versuchsläufen angepasst und mit dem Testdatenset getestet. Die Erkennungsrate beträgt nach der Optimierung 97%. Herr Maier ist zufrieden und nimmt das optimierte System in Betrieb. Die Enttäuschung ist groß, als in den folgenden Tagen wieder häufiger Mäuse in der Wohnung sind. \n",
    "\n",
    "**Wie kann es sein, dass die Erkennungsrate von 90% auf 97% gestiegen ist und das Modell wesentlich schlechter im Betrieb abschneidet?**\n",
    "\n",
    "Die Hyperparameter wurden für das Testset optimiert. Es handelt sich in diesem Fall um eine Überanpassung an das Testdatenset, auch Overfitting genannt. In jedem der Versuchsläufe wurde das gleiche Testdatenset verwendet und anschließend optimiert. Besser ist es, wenn ein weiteres Datenset erstellt wird, das für Optimierungsversuche der Hyperparameter verwendet wird. Dieses Datenset wird **Validierungsdatenset** genannt. Das Testdatenset wird nach Abschluss der Optimierungen einmalig verwendet um das Modell abschließend zu prüfen. So kann Overfitting rechtzeitig vor in Betrieb nahme erkannt werden.\n",
    "\n"
   ]
  },
  {
   "cell_type": "markdown",
   "metadata": {},
   "source": [
    "```{Attention}\n",
    "Wichtig: Verwenden Sie ein Validierungsset, wenn Sie häufige Optimierungen auf Basis des Testergebnis vornehmen.\n",
    "```"
   ]
  },
  {
   "cell_type": "markdown",
   "metadata": {},
   "source": [
    "## Trainings-, Validierungs- und Testdatenset"
   ]
  },
  {
   "cell_type": "markdown",
   "metadata": {},
   "source": [
    "Für die Entwicklung von Machine Learning Verfahren werden drei Datensets erstellt:\n",
    "* Trainigsdatenset\n",
    "* Validierungsdatenset\n",
    "* Testdatenset\n",
    "\n",
    "Das **Trainingsdatenset** wird zum trainieren des Modells verwednet. Trainieren bedeutet, dass aus Erfahrung (Daten) gelernt wird.\n",
    "\n",
    "Das **Validierungsdatenset** wird verwendet, um das Modell während des Entwicklungsprozesses in mehreren Iterationen zu prüfen. Auf Basis des Ergebnisses werden Optimierungen wie z.B. die Anpassung von Hyperparameter vorgenommen und anschließend erneut mit dem Validierungsset geprüft. \n",
    "\n",
    "Bevor ein Modell in Betrieb genommen werden kann, findet abschließend eine Prüfung mit dem **Testdatenset** statt. Das Ergebnis des Testdatensets sollte nicht verwendet werden, um Optimierungen durchzuführen. Ist das Ergebnis des Validierungsdatensets signifikant besser als das Ergebnis des Trainingsdatensets liegt mit hoher Wahrscheinlichkeit eine Überanpassung (Overfitting) des Modells vor."
   ]
  },
  {
   "cell_type": "markdown",
   "metadata": {},
   "source": [
    "### Wissen prüfen"
   ]
  },
  {
   "cell_type": "markdown",
   "metadata": {},
   "source": [
    "Eine Validierungsdatenset ist notwendig wenn\n",
    "\n",
    "```{dropdown} sehr wenige Daten vorliegen\n",
    "<font color='red'>Falsch.</font>\n",
    "```\n",
    "```{dropdown} es viele Hyperparameter gibt, die angepasst werden müssen\n",
    "<font color='green'>Richtig.</font>\n",
    "```\n",
    "```{dropdown} ein komplexes Modell gelernt werden soll, also viele Modelparameter gelernt werden müssen\n",
    "<font color='red'>Falsch.</font>\n",
    "```"
   ]
  },
  {
   "cell_type": "markdown",
   "metadata": {},
   "source": [
    "Testdaten dürfen\n",
    "\n",
    "```{dropdown} für die Optimierung der Hyperparameter und für das Training verwendet werden\n",
    "<font color='red'>Falsch.</font>\n",
    "```\n",
    "```{dropdown} für das Training und das Testen verwendet werden\n",
    "<font color='red'>Falsch.</font>\n",
    "```\n",
    "```{dropdown} ausschließlich für das Testen verwendet werden\n",
    "<font color='green'>Richtig.</font>\n",
    "```"
   ]
  },
  {
   "cell_type": "markdown",
   "metadata": {},
   "source": [
    "Was bedeutet Überanpassung (Overfitting)?\n",
    "\n",
    "```{dropdown} Das Modell ist zu allgemein.\n",
    "<font color='red'>Falsch.</font>\n",
    "```\n",
    "```{dropdown} Das Modell wurde zu sehr für die Trainingsdaten optimiert.\n",
    "<font color='green'>Richtig.</font>\n",
    "```\n",
    "```{dropdown} Das Modell liefert im Betrieb bessere Ergebnisse als in der Testphase.\n",
    "<font color='red'>Falsch.</font>\n",
    "```"
   ]
  },
  {
   "cell_type": "markdown",
   "metadata": {},
   "source": [
    "## Was sollte bei der Erstellung der Datansets beachtet werden?\n",
    "* Datensets müssen disjunkt sein\n",
    "* Geeignete Größe der Datensets wählen\n",
    "* Datensets sollten wenn möglich balanciert sein\n",
    "* Ähnlichkeit zu Daten im Betrieb"
   ]
  },
  {
   "cell_type": "markdown",
   "metadata": {},
   "source": [
    "### Datensets müssen disjunkt sein\n",
    "\n",
    "Wie bereits ausführlich am Beispiel Katzenklappe erläutert, ist es enorm wichtig, dass sich die Datensets nicht überschneiden. Achten Sie besonders darauf, dass sie nie die Testdaten zum trainieren des Modells verwenden."
   ]
  },
  {
   "cell_type": "markdown",
   "metadata": {},
   "source": [
    "```{figure} ../images/datasplitDisjunkt.png\n",
    "---\n",
    "width: 550px\n",
    "align: left\n",
    "name: fig-split-disjunkt\n",
    "---\n",
    "```"
   ]
  },
  {
   "cell_type": "markdown",
   "metadata": {},
   "source": [
    "```{Note}\n",
    "Nicht disjunkte Datensets kommen in der Praxis häufiger vor als man annimmt. Meist sind es Flüchtigkeitsfehler. Die Auswirkung ist jedoch enorm. \n",
    "````"
   ]
  },
  {
   "cell_type": "markdown",
   "metadata": {},
   "source": [
    "### Geeignete Größe der Datensets wählen"
   ]
  },
  {
   "cell_type": "markdown",
   "metadata": {},
   "source": [
    "Wieviel Prozent der Daten sollten als Trainings-, Validierungs- und Testdaten verwendet werden? Wie bei den meisten Entscheidungen im Machine Learning Bereich hängt auch in diesem Fall eine gute Entscheidung vom Anwendungsfall ab. Eine grobe Richtlinie und Empfehlung lautet:\n",
    "* 60% der Daten als Trainingsdaten\n",
    "* 20% der Daten als Validierungsdaten\n",
    "* 20% der Daten als Testdaten\n",
    "\n",
    "\n",
    "```{figure} ../images/datasplitTvtDist.png\n",
    "---\n",
    "height: 150px\n",
    "align: left\n",
    "name: fig-split-dist\n",
    "---\n",
    "```\n",
    "\n",
    "Zum Beispiel kann bei sehr vielen verfügbaren Datensätzen z.B. > 100000 eine geringere Validierungs- und Trainingsmenge ausreichen. Eine Mögliche Verteilung kann 90% Training, 5% Validierung, 5% Test lauten. Wichtig ist, dass in den Validierungs- und Testdatensets möglichst alle Varianten enthalten sind und den in der Realität vorkommenden Daten ähnlich sind. Im Fall der Katzenklappen-Anwendung ist es wichtig, dass möglichst unterschiedliche Bilder von den unterschiedlichen Situationen (Katze von vorne, Katze von hinten, keine Katze, Katze mit Beute) und unterschiedliche Belichtungen, wie z.B. in der Dämmerung, Nachts, bei Tag etc. enthalten sind."
   ]
  },
  {
   "cell_type": "markdown",
   "metadata": {},
   "source": [
    "### Datensets sollten wenn möglich balanciert sein"
   ]
  },
  {
   "cell_type": "markdown",
   "metadata": {},
   "source": [
    "Was bedeutet in Kontext von Machine Learning \"balancierte Datensets\"?\n",
    "Schauen wir uns noch einmal das Katzenklappen-Beispiel an. Es handelt sich bei diesem Anwendungsfall um eine Klassifikation. Es soll ein Modell gelernt werden, dass als Eingabe ein Bild erhält und als Ausgabe eine der beiden Klassen \"offen\" oder \"gesperrt\" ausgibt. Wobei \"offen\" und \"gesperrt\" die Zustände sind, die aufgrund der Klassifikation erfolgen sollen. Zu Beginn liegen 950 Bilder mit dem Label \"offen\" vor und nur 50 Bilder mit dem Label \"gesperrt\". Es handelt sich in diesem Fall um eine Menge von Daten, die entsprechend der Anzahl der verfügbaren Bilder pro Klasse nicht \"balanciert sind\". \n",
    "\n",
    "```{figure} ../images/datasplitImbalanced.png\n",
    "---\n",
    "width: 350px\n",
    "align: left\n",
    "name: fig-imbalanced\n",
    "---\n",
    "```\n",
    "\n",
    "Ein vollständig balancierte Datenmenge liegt vor, wenn von 1000 verfügbaren Bildern, 500 mit dem Label \"offen\" versehen sind und 500 mit dem Label \"gesperrt\". Balanciert bedeutet also, es liegt eine Gleichverteilung vor.\n",
    "\n",
    "Balancierte Datensets führen meist zu einem besseren Ergebnis. Zunächst sollte man prüfen ob sich die Datenmenge aus der die Datensets erstellt werden balanciert ist. Handelt es sich um keine balancierte Datenmenge, sollte versucht werden eine balancierte Datenmenge zu erhalten. Wenn genug Daten vorliegen, können Teilmengen ausgewählt werden. Wenn wenig Daten vorliegen, kann eine weitere Datenerhebung sinnvoll sein. Im Fall der Katzenklappen-Anwendung könnte die Anzahl der \"Katze mit Beute\"-Bilder erhöht werden, durch weitere Aufzeichnungen. \n",
    "\n",
    "Nicht balancierte Datensets kommen in der Praxis sehr häufig vor. Lässt sich die Verteilung der Daten nicht ändern, kann mit nicht balancierten Datenset ein Testlauf gestartet werden. Bei der Bewertung des Ergebnisse muss diese Eigenschaft des Datensets berücksichtigt werden.\n",
    "\n",
    "<mark> todo </mark>möglichkeiten bei inbalanced (optional)"
   ]
  },
  {
   "cell_type": "markdown",
   "metadata": {},
   "source": [
    "```{Tip}\n",
    "Achten Sie bei der Aufteilung der Datensets auf die Verteilung der Daten. Erstellen sie wenn möglich Datensets die balanciert sind.\n",
    "````"
   ]
  },
  {
   "cell_type": "markdown",
   "metadata": {},
   "source": [
    "### Ähnlichkeit zu Daten im Betrieb"
   ]
  },
  {
   "cell_type": "markdown",
   "metadata": {},
   "source": [
    "Die Charakteristiken der Trainings-, Validierungs- und Testdatensets sollten möglichst ähnliche zu den Charakteristiken der Daten im Betrieb sein. Die Verteilng der Anzahl pro Klasse sind eine Charakteristik. Je nach Anwendungsfall gibt es weitere Charakteristiken.\n",
    "\n",
    "Am Beispiel der Katzenklappe: Es existieren meherere Bilder mit der gleichen Beute in den Daten. Wenn man die Zuweisung der Datensätze in die jeweiligen Datensets beliebig erstellt, kann es sein, dass Bilder der gleichen Beute im Trainings- als auch im Testset enthalten sind. Das hat zur Folge, dass das Modell die Beute bereits im Training gesehen hat. Die Beute, die Felix in Zukunft mitbringen wird, hat das Modell noch nicht gesehen. Der Unterschied von der Test-Situation und der Realität (im Betrieb), weicht stark ab. Das Ergebnis unter Verwendung der Testdaten wird besser sein, als das Ergebnis im Betrieb.\n",
    "\n",
    "```{figure} ../images/datasplitTimeCatflap.png\n",
    "---\n",
    "width: 650px\n",
    "align: left\n",
    "name: fig-time-catflap\n",
    "---\n",
    "```\n",
    "\n",
    "Lösung: Die Daten werden nicht beliebig gesplittet, sondern nach Aufnahmedatum sortiert und anschließend gesplittet. So wird die Wahrscheinlichkeit, dass ein Beutebild auch im Testset existiert minimiert. "
   ]
  },
  {
   "cell_type": "markdown",
   "metadata": {},
   "source": [
    "```{Tip}\n",
    "Denken Sie über das Szenario im Betrieb nach: \n",
    "* Welche Daten stehen dem Modell zum Training zur Verfügung?\n",
    "* Welche Daten werden im Betrieb erzeugt, bzw. als Anfrage an das Modell gestellt? \n",
    "* Wie unterscheiden sich die Daten in Training und Betrieb? \n",
    "* Spiegelt sich diese Unterscheidung auch im Trainings- und Testdatenset wieder?\n",
    "````"
   ]
  },
  {
   "cell_type": "markdown",
   "metadata": {},
   "source": [
    "## Beispiel Titanic: Datensets erstellen"
   ]
  },
  {
   "cell_type": "markdown",
   "metadata": {},
   "source": [
    "Packete importieren"
   ]
  },
  {
   "cell_type": "code",
   "execution_count": 1,
   "metadata": {},
   "outputs": [],
   "source": [
    "import pandas as pd\n",
    "import numpy as np\n",
    "import sklearn as sklearn\n",
    "import pickle\n",
    "from sklearn.model_selection import train_test_split"
   ]
  },
  {
   "cell_type": "markdown",
   "metadata": {},
   "source": [
    "Daten laden"
   ]
  },
  {
   "cell_type": "code",
   "execution_count": 2,
   "metadata": {},
   "outputs": [
    {
     "data": {
      "text/html": [
       "<div>\n",
       "<style scoped>\n",
       "    .dataframe tbody tr th:only-of-type {\n",
       "        vertical-align: middle;\n",
       "    }\n",
       "\n",
       "    .dataframe tbody tr th {\n",
       "        vertical-align: top;\n",
       "    }\n",
       "\n",
       "    .dataframe thead th {\n",
       "        text-align: right;\n",
       "    }\n",
       "</style>\n",
       "<table border=\"1\" class=\"dataframe\">\n",
       "  <thead>\n",
       "    <tr style=\"text-align: right;\">\n",
       "      <th></th>\n",
       "      <th>Survived</th>\n",
       "      <th>Pclass</th>\n",
       "      <th>Sex</th>\n",
       "      <th>Age</th>\n",
       "      <th>SibSp</th>\n",
       "      <th>Parch</th>\n",
       "      <th>Fare</th>\n",
       "      <th>Embarked</th>\n",
       "    </tr>\n",
       "  </thead>\n",
       "  <tbody>\n",
       "    <tr>\n",
       "      <th>0</th>\n",
       "      <td>0</td>\n",
       "      <td>3</td>\n",
       "      <td>male</td>\n",
       "      <td>22.0</td>\n",
       "      <td>1</td>\n",
       "      <td>0</td>\n",
       "      <td>7.2500</td>\n",
       "      <td>S</td>\n",
       "    </tr>\n",
       "    <tr>\n",
       "      <th>1</th>\n",
       "      <td>1</td>\n",
       "      <td>1</td>\n",
       "      <td>female</td>\n",
       "      <td>38.0</td>\n",
       "      <td>1</td>\n",
       "      <td>0</td>\n",
       "      <td>71.2833</td>\n",
       "      <td>C</td>\n",
       "    </tr>\n",
       "    <tr>\n",
       "      <th>2</th>\n",
       "      <td>1</td>\n",
       "      <td>3</td>\n",
       "      <td>female</td>\n",
       "      <td>26.0</td>\n",
       "      <td>0</td>\n",
       "      <td>0</td>\n",
       "      <td>7.9250</td>\n",
       "      <td>S</td>\n",
       "    </tr>\n",
       "    <tr>\n",
       "      <th>3</th>\n",
       "      <td>1</td>\n",
       "      <td>1</td>\n",
       "      <td>female</td>\n",
       "      <td>35.0</td>\n",
       "      <td>1</td>\n",
       "      <td>0</td>\n",
       "      <td>53.1000</td>\n",
       "      <td>S</td>\n",
       "    </tr>\n",
       "    <tr>\n",
       "      <th>4</th>\n",
       "      <td>0</td>\n",
       "      <td>3</td>\n",
       "      <td>male</td>\n",
       "      <td>35.0</td>\n",
       "      <td>0</td>\n",
       "      <td>0</td>\n",
       "      <td>8.0500</td>\n",
       "      <td>S</td>\n",
       "    </tr>\n",
       "    <tr>\n",
       "      <th>...</th>\n",
       "      <td>...</td>\n",
       "      <td>...</td>\n",
       "      <td>...</td>\n",
       "      <td>...</td>\n",
       "      <td>...</td>\n",
       "      <td>...</td>\n",
       "      <td>...</td>\n",
       "      <td>...</td>\n",
       "    </tr>\n",
       "    <tr>\n",
       "      <th>886</th>\n",
       "      <td>0</td>\n",
       "      <td>2</td>\n",
       "      <td>male</td>\n",
       "      <td>27.0</td>\n",
       "      <td>0</td>\n",
       "      <td>0</td>\n",
       "      <td>13.0000</td>\n",
       "      <td>S</td>\n",
       "    </tr>\n",
       "    <tr>\n",
       "      <th>887</th>\n",
       "      <td>1</td>\n",
       "      <td>1</td>\n",
       "      <td>female</td>\n",
       "      <td>19.0</td>\n",
       "      <td>0</td>\n",
       "      <td>0</td>\n",
       "      <td>30.0000</td>\n",
       "      <td>S</td>\n",
       "    </tr>\n",
       "    <tr>\n",
       "      <th>888</th>\n",
       "      <td>0</td>\n",
       "      <td>3</td>\n",
       "      <td>female</td>\n",
       "      <td>28.0</td>\n",
       "      <td>1</td>\n",
       "      <td>2</td>\n",
       "      <td>23.4500</td>\n",
       "      <td>S</td>\n",
       "    </tr>\n",
       "    <tr>\n",
       "      <th>889</th>\n",
       "      <td>1</td>\n",
       "      <td>1</td>\n",
       "      <td>male</td>\n",
       "      <td>26.0</td>\n",
       "      <td>0</td>\n",
       "      <td>0</td>\n",
       "      <td>30.0000</td>\n",
       "      <td>C</td>\n",
       "    </tr>\n",
       "    <tr>\n",
       "      <th>890</th>\n",
       "      <td>0</td>\n",
       "      <td>3</td>\n",
       "      <td>male</td>\n",
       "      <td>32.0</td>\n",
       "      <td>0</td>\n",
       "      <td>0</td>\n",
       "      <td>7.7500</td>\n",
       "      <td>Q</td>\n",
       "    </tr>\n",
       "  </tbody>\n",
       "</table>\n",
       "<p>891 rows × 8 columns</p>\n",
       "</div>"
      ],
      "text/plain": [
       "     Survived  Pclass     Sex   Age  SibSp  Parch     Fare Embarked\n",
       "0           0       3    male  22.0      1      0   7.2500        S\n",
       "1           1       1  female  38.0      1      0  71.2833        C\n",
       "2           1       3  female  26.0      0      0   7.9250        S\n",
       "3           1       1  female  35.0      1      0  53.1000        S\n",
       "4           0       3    male  35.0      0      0   8.0500        S\n",
       "..        ...     ...     ...   ...    ...    ...      ...      ...\n",
       "886         0       2    male  27.0      0      0  13.0000        S\n",
       "887         1       1  female  19.0      0      0  30.0000        S\n",
       "888         0       3  female  28.0      1      2  23.4500        S\n",
       "889         1       1    male  26.0      0      0  30.0000        C\n",
       "890         0       3    male  32.0      0      0   7.7500        Q\n",
       "\n",
       "[891 rows x 8 columns]"
      ]
     },
     "execution_count": 2,
     "metadata": {},
     "output_type": "execute_result"
    }
   ],
   "source": [
    "df = pd.read_pickle('../output/titanic/preparedData.pkl')\n",
    "df"
   ]
  },
  {
   "cell_type": "markdown",
   "metadata": {},
   "source": [
    "Sind die Daten ungleich verteilt in Bezug auf die Anzahl der Klassen?"
   ]
  },
  {
   "cell_type": "code",
   "execution_count": 3,
   "metadata": {},
   "outputs": [
    {
     "data": {
      "text/plain": [
       "<matplotlib.axes._subplots.AxesSubplot at 0x7fc19848ae50>"
      ]
     },
     "execution_count": 3,
     "metadata": {},
     "output_type": "execute_result"
    },
    {
     "data": {
      "image/png": "[encoded data removed]",
      "text/plain": [
       "<Figure size 432x288 with 1 Axes>"
      ]
     },
     "metadata": {
      "filenames": {
       "image/png": "/Users/alandmesser/git/books/workshop-data/_build/jupyter_execute/features/splitData_30_1.png"
      },
      "needs_background": "light"
     },
     "output_type": "display_data"
    }
   ],
   "source": [
    "df['Survived'].hist()"
   ]
  },
  {
   "cell_type": "markdown",
   "metadata": {},
   "source": [
    "Vorbereitung für die Erstellung der Datensets mit Scikit-Learn Bibliothek:\n",
    "1. Pandas Dataframe der Merkmale enthält\n",
    "2. Pandas Dataframe (Series) der Labels enthält"
   ]
  },
  {
   "cell_type": "code",
   "execution_count": 4,
   "metadata": {},
   "outputs": [],
   "source": [
    "X = df.drop(['Survived'], axis=1)"
   ]
  },
  {
   "cell_type": "code",
   "execution_count": 5,
   "metadata": {},
   "outputs": [
    {
     "data": {
      "text/html": [
       "<div>\n",
       "<style scoped>\n",
       "    .dataframe tbody tr th:only-of-type {\n",
       "        vertical-align: middle;\n",
       "    }\n",
       "\n",
       "    .dataframe tbody tr th {\n",
       "        vertical-align: top;\n",
       "    }\n",
       "\n",
       "    .dataframe thead th {\n",
       "        text-align: right;\n",
       "    }\n",
       "</style>\n",
       "<table border=\"1\" class=\"dataframe\">\n",
       "  <thead>\n",
       "    <tr style=\"text-align: right;\">\n",
       "      <th></th>\n",
       "      <th>Pclass</th>\n",
       "      <th>Sex</th>\n",
       "      <th>Age</th>\n",
       "      <th>SibSp</th>\n",
       "      <th>Parch</th>\n",
       "      <th>Fare</th>\n",
       "      <th>Embarked</th>\n",
       "    </tr>\n",
       "  </thead>\n",
       "  <tbody>\n",
       "    <tr>\n",
       "      <th>0</th>\n",
       "      <td>3</td>\n",
       "      <td>male</td>\n",
       "      <td>22.0</td>\n",
       "      <td>1</td>\n",
       "      <td>0</td>\n",
       "      <td>7.2500</td>\n",
       "      <td>S</td>\n",
       "    </tr>\n",
       "    <tr>\n",
       "      <th>1</th>\n",
       "      <td>1</td>\n",
       "      <td>female</td>\n",
       "      <td>38.0</td>\n",
       "      <td>1</td>\n",
       "      <td>0</td>\n",
       "      <td>71.2833</td>\n",
       "      <td>C</td>\n",
       "    </tr>\n",
       "    <tr>\n",
       "      <th>2</th>\n",
       "      <td>3</td>\n",
       "      <td>female</td>\n",
       "      <td>26.0</td>\n",
       "      <td>0</td>\n",
       "      <td>0</td>\n",
       "      <td>7.9250</td>\n",
       "      <td>S</td>\n",
       "    </tr>\n",
       "    <tr>\n",
       "      <th>3</th>\n",
       "      <td>1</td>\n",
       "      <td>female</td>\n",
       "      <td>35.0</td>\n",
       "      <td>1</td>\n",
       "      <td>0</td>\n",
       "      <td>53.1000</td>\n",
       "      <td>S</td>\n",
       "    </tr>\n",
       "    <tr>\n",
       "      <th>4</th>\n",
       "      <td>3</td>\n",
       "      <td>male</td>\n",
       "      <td>35.0</td>\n",
       "      <td>0</td>\n",
       "      <td>0</td>\n",
       "      <td>8.0500</td>\n",
       "      <td>S</td>\n",
       "    </tr>\n",
       "    <tr>\n",
       "      <th>...</th>\n",
       "      <td>...</td>\n",
       "      <td>...</td>\n",
       "      <td>...</td>\n",
       "      <td>...</td>\n",
       "      <td>...</td>\n",
       "      <td>...</td>\n",
       "      <td>...</td>\n",
       "    </tr>\n",
       "    <tr>\n",
       "      <th>886</th>\n",
       "      <td>2</td>\n",
       "      <td>male</td>\n",
       "      <td>27.0</td>\n",
       "      <td>0</td>\n",
       "      <td>0</td>\n",
       "      <td>13.0000</td>\n",
       "      <td>S</td>\n",
       "    </tr>\n",
       "    <tr>\n",
       "      <th>887</th>\n",
       "      <td>1</td>\n",
       "      <td>female</td>\n",
       "      <td>19.0</td>\n",
       "      <td>0</td>\n",
       "      <td>0</td>\n",
       "      <td>30.0000</td>\n",
       "      <td>S</td>\n",
       "    </tr>\n",
       "    <tr>\n",
       "      <th>888</th>\n",
       "      <td>3</td>\n",
       "      <td>female</td>\n",
       "      <td>28.0</td>\n",
       "      <td>1</td>\n",
       "      <td>2</td>\n",
       "      <td>23.4500</td>\n",
       "      <td>S</td>\n",
       "    </tr>\n",
       "    <tr>\n",
       "      <th>889</th>\n",
       "      <td>1</td>\n",
       "      <td>male</td>\n",
       "      <td>26.0</td>\n",
       "      <td>0</td>\n",
       "      <td>0</td>\n",
       "      <td>30.0000</td>\n",
       "      <td>C</td>\n",
       "    </tr>\n",
       "    <tr>\n",
       "      <th>890</th>\n",
       "      <td>3</td>\n",
       "      <td>male</td>\n",
       "      <td>32.0</td>\n",
       "      <td>0</td>\n",
       "      <td>0</td>\n",
       "      <td>7.7500</td>\n",
       "      <td>Q</td>\n",
       "    </tr>\n",
       "  </tbody>\n",
       "</table>\n",
       "<p>891 rows × 7 columns</p>\n",
       "</div>"
      ],
      "text/plain": [
       "     Pclass     Sex   Age  SibSp  Parch     Fare Embarked\n",
       "0         3    male  22.0      1      0   7.2500        S\n",
       "1         1  female  38.0      1      0  71.2833        C\n",
       "2         3  female  26.0      0      0   7.9250        S\n",
       "3         1  female  35.0      1      0  53.1000        S\n",
       "4         3    male  35.0      0      0   8.0500        S\n",
       "..      ...     ...   ...    ...    ...      ...      ...\n",
       "886       2    male  27.0      0      0  13.0000        S\n",
       "887       1  female  19.0      0      0  30.0000        S\n",
       "888       3  female  28.0      1      2  23.4500        S\n",
       "889       1    male  26.0      0      0  30.0000        C\n",
       "890       3    male  32.0      0      0   7.7500        Q\n",
       "\n",
       "[891 rows x 7 columns]"
      ]
     },
     "execution_count": 5,
     "metadata": {},
     "output_type": "execute_result"
    }
   ],
   "source": [
    "X"
   ]
  },
  {
   "cell_type": "code",
   "execution_count": 6,
   "metadata": {},
   "outputs": [
    {
     "data": {
      "text/plain": [
       "0      0\n",
       "1      1\n",
       "2      1\n",
       "3      1\n",
       "4      0\n",
       "      ..\n",
       "886    0\n",
       "887    1\n",
       "888    0\n",
       "889    1\n",
       "890    0\n",
       "Name: Survived, Length: 891, dtype: int64"
      ]
     },
     "execution_count": 6,
     "metadata": {},
     "output_type": "execute_result"
    }
   ],
   "source": [
    "y = df['Survived']\n",
    "y"
   ]
  },
  {
   "cell_type": "markdown",
   "metadata": {},
   "source": [
    "Estellen der Datensets unter Verwendung der train_test_split-Methode von Scikit-Learn. Ziel ist es, die Daten in 80% Trainingsdaten, 20% Validierungsdaten und 20% Testdaten zu teilen. Das erfolgt mit der train_test_split-Methode in zwei Schritten:\n",
    "1. Die Daten werden im Verhältnis 80:20 gesplittet. 80% der Daten werden als Trainingsdaten bezeichnet, 20% der Daten als Testdaten. \n",
    "2. Die Trainingsdaten werden nochmals geteilt. 75% werden weiterhin als Trainingsdaten verwendet, 25% als Validierungsdaten.\n",
    "\n",
    "Der Paramter **random_state** wird auf einen beliebigen Wert (hier 1) festgelegt. Wird ein Wert für diesen Parameter gesetzt erhält man bei jeder Ausführung des Codes die gleiche Aufteilung. Konkret bedeutet das, wenn der erste Datensatz bei einer Ausführung des Codes dem Testdatensatz zugewiesen wird, ist das auch bei der zweiten Ausführung der Fall. Diese Einstellung wird verwendet um das Ergebnis reproduzieren zu können.\n",
    "\n",
    "Dem Parameter **stratify** werden die Labels übergeben. Damit wird sichergestellt, dass die Datensets die gleiche Verteilung in Bezug auf die Klassen enthalten. In diesem Fall sind es 0.61% der Daten mit dem Label \"nicht überlebt\" und 0.39% der Daten mit dem Label \"überlebt\"."
   ]
  },
  {
   "cell_type": "code",
   "execution_count": 7,
   "metadata": {},
   "outputs": [],
   "source": [
    "X_train, X_test, y_train, y_test = train_test_split(X, y, test_size=0.2, random_state=1, stratify=y)\n",
    "X_train, X_val, y_train, y_val = train_test_split(X_train, y_train, test_size=0.25, random_state=1, stratify=y_train)"
   ]
  },
  {
   "cell_type": "code",
   "execution_count": 8,
   "metadata": {},
   "outputs": [
    {
     "name": "stdout",
     "output_type": "stream",
     "text": [
      "Trainingsdatenset:\n",
      "Shape of X_train  (534, 7)\n",
      "Shape of y_train  (534,)\n",
      "\n",
      "Validierungsdatenset:\n",
      "Shape of X_val  (178, 7)\n",
      "Shape of y_val  (178,)\n",
      "\n",
      "Testdatenset:\n",
      "Shape of X_test  (179, 7)\n",
      "Shape of y_test  (179,)\n"
     ]
    }
   ],
   "source": [
    "print('Trainingsdatenset:')\n",
    "print('Shape of X_train ',X_train.shape)\n",
    "print('Shape of y_train ',y_train.shape)\n",
    "print()\n",
    "print('Validierungsdatenset:') \n",
    "print('Shape of X_val ',X_val.shape)\n",
    "print('Shape of y_val ',y_val.shape)\n",
    "print()\n",
    "print('Testdatenset:')\n",
    "print('Shape of X_test ',X_test.shape)\n",
    "print('Shape of y_test ',y_test.shape)"
   ]
  },
  {
   "cell_type": "markdown",
   "metadata": {},
   "source": [
    "Verteilung der Klassen im Trainingsdatenset"
   ]
  },
  {
   "cell_type": "code",
   "execution_count": 9,
   "metadata": {},
   "outputs": [
    {
     "data": {
      "text/plain": [
       "0    0.616105\n",
       "1    0.383895\n",
       "Name: Survived, dtype: float64"
      ]
     },
     "execution_count": 9,
     "metadata": {},
     "output_type": "execute_result"
    }
   ],
   "source": [
    "y_train.value_counts()/y_train.shape[0]"
   ]
  },
  {
   "cell_type": "markdown",
   "metadata": {},
   "source": [
    "Verteilung der Klassen im Validierungsdatenset"
   ]
  },
  {
   "cell_type": "code",
   "execution_count": 10,
   "metadata": {},
   "outputs": [
    {
     "data": {
      "text/plain": [
       "0    0.617978\n",
       "1    0.382022\n",
       "Name: Survived, dtype: float64"
      ]
     },
     "execution_count": 10,
     "metadata": {},
     "output_type": "execute_result"
    }
   ],
   "source": [
    "y_val.value_counts()/y_val.shape[0]"
   ]
  },
  {
   "cell_type": "markdown",
   "metadata": {},
   "source": [
    "Verteilung der Klassen im Testdatenset"
   ]
  },
  {
   "cell_type": "code",
   "execution_count": 11,
   "metadata": {},
   "outputs": [
    {
     "data": {
      "text/plain": [
       "0    0.614525\n",
       "1    0.385475\n",
       "Name: Survived, dtype: float64"
      ]
     },
     "execution_count": 11,
     "metadata": {},
     "output_type": "execute_result"
    }
   ],
   "source": [
    "y_test.value_counts()/y_test.shape[0]"
   ]
  },
  {
   "cell_type": "markdown",
   "metadata": {},
   "source": [
    "## Datensets speichern"
   ]
  },
  {
   "cell_type": "markdown",
   "metadata": {},
   "source": [
    "Die Datensets werden in einem Python Dictionary abgelegt."
   ]
  },
  {
   "cell_type": "code",
   "execution_count": 12,
   "metadata": {},
   "outputs": [],
   "source": [
    "datasets = {\n",
    "    'X_train': X_train,\n",
    "    'y_train': y_train,\n",
    "    'X_val': X_val,\n",
    "    'y_val': y_val,\n",
    "    'X_test': X_test,\n",
    "    'y_test': y_test\n",
    "}"
   ]
  },
  {
   "cell_type": "code",
   "execution_count": 13,
   "metadata": {},
   "outputs": [
    {
     "name": "stdout",
     "output_type": "stream",
     "text": [
      "[234, 206, 292, 265, 261, 247, 252, 204, 217, 220]\n",
      "[253, 215, 204]\n"
     ]
    }
   ],
   "source": [
    "import random\n",
    "random.seed(52)\n",
    "\n",
    "# Sex\n",
    "sex_values = ['female', 'male']\n",
    "\n",
    "# Pclass\n",
    "pclass_values = [1, 2, 3]\n",
    "\n",
    "# Embarked\n",
    "embarked_values = ['Q','S','C']\n",
    "# Survived\n",
    "survived_values = [0,1]\n",
    "\n",
    "outlier_xtrain_count = int(datasets['X_train'].shape[0]*0.02)\n",
    "outlier_xval_count = int(datasets['X_val'].shape[0]*0.02)\n",
    "outlier_xtest_count = int(datasets['X_test'].shape[0]*0.02)\n",
    "\n",
    "outlier = {\n",
    "    'X_train': {\n",
    "        'age': random.sample(range(200,300), outlier_xtrain_count),\n",
    "        'parch': random.sample(range(20,40), outlier_xtrain_count),\n",
    "        'sibsp': random.sample(range(21,50), outlier_xtrain_count),\n",
    "        'fare': [2630]*outlier_xtrain_count\n",
    "    },\n",
    "    'X_val': {\n",
    "        'age': random.sample(range(200,300), outlier_xval_count),\n",
    "        'parch': random.sample(range(20,40), outlier_xval_count),\n",
    "        'sibsp': random.sample(range(21,50), outlier_xval_count),\n",
    "        'fare': [2630]*outlier_xval_count\n",
    "    },\n",
    "    'X_test': {\n",
    "        'age': random.sample(range(200,300), outlier_xtest_count),\n",
    "        'parch': random.sample(range(20,40), outlier_xtest_count),\n",
    "        'sibsp': random.sample(range(21,50), outlier_xtest_count),\n",
    "        'fare': [2630]*outlier_xtest_count\n",
    "    }\n",
    "}\n",
    "\n",
    "print(outlier['X_train']['age'])\n",
    "print(outlier['X_val']['age'])"
   ]
  },
  {
   "cell_type": "code",
   "execution_count": 14,
   "metadata": {},
   "outputs": [
    {
     "name": "stdout",
     "output_type": "stream",
     "text": [
      "X_train (534, 7)\n",
      "y_train (534,)\n",
      "X_val (178, 7)\n",
      "y_val (178,)\n",
      "X_test (179, 7)\n",
      "y_test (179,)\n"
     ]
    }
   ],
   "source": [
    "for key, dataset in datasets.items():\n",
    "    print(key, dataset.shape)"
   ]
  },
  {
   "cell_type": "code",
   "execution_count": 15,
   "metadata": {},
   "outputs": [],
   "source": [
    "for key, dataset in datasets.items():\n",
    "    y_train_new = []\n",
    "    if 'X' in key:\n",
    "        for (age, sibsp, parch, fare) in zip(outlier[key]['age'], outlier[key]['sibsp'], outlier[key]['parch'], outlier[key]['fare']):\n",
    "            dataset = dataset.append(\n",
    "                {\n",
    "                    'Sex': random.choice(sex_values),\n",
    "                    'Pclass': random.choice(pclass_values),\n",
    "                    'Age': age,\n",
    "                    'Parch': parch,\n",
    "                    'SibSp': sibsp,\n",
    "                    'Fare': fare,\n",
    "                    'Embarked': random.choice(embarked_values)\n",
    "                }, ignore_index=True\n",
    "            )\n",
    "            y_train_new.append(random.choice(survived_values))\n",
    "\n",
    "        y_set = 'y_'+key.split('_')[1]\n",
    "        datasets[y_set] = datasets[y_set].append(pd.Series(y_train_new))\n",
    "        datasets[key] = dataset"
   ]
  },
  {
   "cell_type": "code",
   "execution_count": 16,
   "metadata": {},
   "outputs": [
    {
     "name": "stdout",
     "output_type": "stream",
     "text": [
      "X_train (544, 7)\n",
      "y_train (544,)\n",
      "X_val (181, 7)\n",
      "y_val (181,)\n",
      "X_test (182, 7)\n",
      "y_test (182,)\n"
     ]
    }
   ],
   "source": [
    "for key, dataset in datasets.items():\n",
    "    print(key, dataset.shape)"
   ]
  },
  {
   "cell_type": "markdown",
   "metadata": {},
   "source": [
    "Das Pickle Modul ermöglicht eine einfache und effiziente Speicherung der Daten. Im Vergleich zu anderen Formaten wie z.B. dem Excel-Format, lassen sich Pickle Formate schneller speichern und auslesen. Das Speichern des Python Dictionary erfolgt über folgende zwei Zeilen Code:"
   ]
  },
  {
   "cell_type": "code",
   "execution_count": 17,
   "metadata": {},
   "outputs": [],
   "source": [
    "with open('../output/titanic/datasets.pkl', 'wb') as handle:\n",
    "    pickle.dump(datasets, handle)"
   ]
  },
  {
   "cell_type": "markdown",
   "metadata": {},
   "source": [
    "Über folgende Befehle lässt sich das Dictionary wieder auslesen:"
   ]
  },
  {
   "cell_type": "code",
   "execution_count": 18,
   "metadata": {},
   "outputs": [],
   "source": [
    "with open('../output/titanic/datasets.pkl', 'rb') as handle:\n",
    "    datasets = pickle.load(handle)"
   ]
  },
  {
   "cell_type": "markdown",
   "metadata": {},
   "source": [
    "Die Ausgabe der Merkmale des Trainingsdatenset erfolgt über den Key \"X_train\" des eingelesenen Dictionaries."
   ]
  },
  {
   "cell_type": "code",
   "execution_count": 19,
   "metadata": {},
   "outputs": [
    {
     "data": {
      "text/html": [
       "<div>\n",
       "<style scoped>\n",
       "    .dataframe tbody tr th:only-of-type {\n",
       "        vertical-align: middle;\n",
       "    }\n",
       "\n",
       "    .dataframe tbody tr th {\n",
       "        vertical-align: top;\n",
       "    }\n",
       "\n",
       "    .dataframe thead th {\n",
       "        text-align: right;\n",
       "    }\n",
       "</style>\n",
       "<table border=\"1\" class=\"dataframe\">\n",
       "  <thead>\n",
       "    <tr style=\"text-align: right;\">\n",
       "      <th></th>\n",
       "      <th>Pclass</th>\n",
       "      <th>Sex</th>\n",
       "      <th>Age</th>\n",
       "      <th>SibSp</th>\n",
       "      <th>Parch</th>\n",
       "      <th>Fare</th>\n",
       "      <th>Embarked</th>\n",
       "    </tr>\n",
       "  </thead>\n",
       "  <tbody>\n",
       "    <tr>\n",
       "      <th>0</th>\n",
       "      <td>2</td>\n",
       "      <td>male</td>\n",
       "      <td>59.0</td>\n",
       "      <td>0</td>\n",
       "      <td>0</td>\n",
       "      <td>13.5000</td>\n",
       "      <td>S</td>\n",
       "    </tr>\n",
       "    <tr>\n",
       "      <th>1</th>\n",
       "      <td>1</td>\n",
       "      <td>male</td>\n",
       "      <td>65.0</td>\n",
       "      <td>0</td>\n",
       "      <td>1</td>\n",
       "      <td>61.9792</td>\n",
       "      <td>C</td>\n",
       "    </tr>\n",
       "    <tr>\n",
       "      <th>2</th>\n",
       "      <td>2</td>\n",
       "      <td>male</td>\n",
       "      <td>28.0</td>\n",
       "      <td>0</td>\n",
       "      <td>0</td>\n",
       "      <td>0.0000</td>\n",
       "      <td>S</td>\n",
       "    </tr>\n",
       "    <tr>\n",
       "      <th>3</th>\n",
       "      <td>2</td>\n",
       "      <td>male</td>\n",
       "      <td>18.0</td>\n",
       "      <td>0</td>\n",
       "      <td>0</td>\n",
       "      <td>73.5000</td>\n",
       "      <td>S</td>\n",
       "    </tr>\n",
       "    <tr>\n",
       "      <th>4</th>\n",
       "      <td>3</td>\n",
       "      <td>male</td>\n",
       "      <td>25.0</td>\n",
       "      <td>0</td>\n",
       "      <td>0</td>\n",
       "      <td>7.6500</td>\n",
       "      <td>S</td>\n",
       "    </tr>\n",
       "    <tr>\n",
       "      <th>...</th>\n",
       "      <td>...</td>\n",
       "      <td>...</td>\n",
       "      <td>...</td>\n",
       "      <td>...</td>\n",
       "      <td>...</td>\n",
       "      <td>...</td>\n",
       "      <td>...</td>\n",
       "    </tr>\n",
       "    <tr>\n",
       "      <th>177</th>\n",
       "      <td>3</td>\n",
       "      <td>male</td>\n",
       "      <td>70.5</td>\n",
       "      <td>0</td>\n",
       "      <td>0</td>\n",
       "      <td>7.7500</td>\n",
       "      <td>Q</td>\n",
       "    </tr>\n",
       "    <tr>\n",
       "      <th>178</th>\n",
       "      <td>3</td>\n",
       "      <td>female</td>\n",
       "      <td>28.0</td>\n",
       "      <td>3</td>\n",
       "      <td>1</td>\n",
       "      <td>25.4667</td>\n",
       "      <td>S</td>\n",
       "    </tr>\n",
       "    <tr>\n",
       "      <th>179</th>\n",
       "      <td>3</td>\n",
       "      <td>female</td>\n",
       "      <td>246.0</td>\n",
       "      <td>42</td>\n",
       "      <td>24</td>\n",
       "      <td>2630.0000</td>\n",
       "      <td>C</td>\n",
       "    </tr>\n",
       "    <tr>\n",
       "      <th>180</th>\n",
       "      <td>1</td>\n",
       "      <td>female</td>\n",
       "      <td>269.0</td>\n",
       "      <td>37</td>\n",
       "      <td>32</td>\n",
       "      <td>2630.0000</td>\n",
       "      <td>S</td>\n",
       "    </tr>\n",
       "    <tr>\n",
       "      <th>181</th>\n",
       "      <td>1</td>\n",
       "      <td>female</td>\n",
       "      <td>216.0</td>\n",
       "      <td>43</td>\n",
       "      <td>36</td>\n",
       "      <td>2630.0000</td>\n",
       "      <td>C</td>\n",
       "    </tr>\n",
       "  </tbody>\n",
       "</table>\n",
       "<p>182 rows × 7 columns</p>\n",
       "</div>"
      ],
      "text/plain": [
       "     Pclass     Sex    Age  SibSp  Parch       Fare Embarked\n",
       "0         2    male   59.0      0      0    13.5000        S\n",
       "1         1    male   65.0      0      1    61.9792        C\n",
       "2         2    male   28.0      0      0     0.0000        S\n",
       "3         2    male   18.0      0      0    73.5000        S\n",
       "4         3    male   25.0      0      0     7.6500        S\n",
       "..      ...     ...    ...    ...    ...        ...      ...\n",
       "177       3    male   70.5      0      0     7.7500        Q\n",
       "178       3  female   28.0      3      1    25.4667        S\n",
       "179       3  female  246.0     42     24  2630.0000        C\n",
       "180       1  female  269.0     37     32  2630.0000        S\n",
       "181       1  female  216.0     43     36  2630.0000        C\n",
       "\n",
       "[182 rows x 7 columns]"
      ]
     },
     "execution_count": 19,
     "metadata": {},
     "output_type": "execute_result"
    }
   ],
   "source": [
    "datasets['X_test']"
   ]
  },
  {
   "cell_type": "markdown",
   "metadata": {},
   "source": [
    "-----------------"
   ]
  },
  {
   "cell_type": "markdown",
   "metadata": {},
   "source": [
    "Speichern der Datensets"
   ]
  },
  {
   "cell_type": "code",
   "execution_count": 20,
   "metadata": {},
   "outputs": [
    {
     "data": {
      "text/plain": [
       "<matplotlib.axes._subplots.AxesSubplot at 0x7fc198b9e710>"
      ]
     },
     "execution_count": 20,
     "metadata": {},
     "output_type": "execute_result"
    },
    {
     "data": {
      "image/png": "[encoded data removed]",
      "text/plain": [
       "<Figure size 1080x1080 with 2 Axes>"
      ]
     },
     "metadata": {
      "filenames": {
       "image/png": "/Users/alandmesser/git/books/workshop-data/_build/jupyter_execute/features/splitData_59_1.png"
      },
      "needs_background": "light"
     },
     "output_type": "display_data"
    }
   ],
   "source": [
    "import seaborn as sns\n",
    "import matplotlib.pyplot as plt\n",
    "corr = df.corr()\n",
    "plt.figure(figsize=(15,15))\n",
    "sns.heatmap(corr, annot=True)"
   ]
  },
  {
   "cell_type": "markdown",
   "metadata": {},
   "source": [
    "Für die Entwicklung von Machine Learning Verfahren sollten 3 Datensets erstellt werden:\n",
    "* Trainigsdatenset\n",
    "* Validierungsdatenset\n",
    "* Testdatenset\n",
    "\n",
    "In der Trainingsphase wird ein Modell trainiert. Trainieren bedeutet, dass aus Erfahrung (Daten) gelernt wird. In der Testphase wird das trainierte Modell geprüft. Hierzu werden neue Daten verwendet, die nicht in der Trainingsphase zum Einsatz kamen. In der Testphase erfolgt eine Beurteilung, ob das trainierte Modell den Erwartungen entsprechend funktioniert, umgangssprachlich \"gut genug ist\". Ist das System nicht gut genug muss das System angepasst werden, erneut die Trainingsphase durchlaufen und anschließend getestet werden. Ist das System gut genug, kann in die Betriebsphase gewechselt werden. Das Modell geht \"in Betrieb\", bedeutet es wird in der Endanwendung eingesetzt.\n",
    "\n",
    "Für die Trainings- und Testphase werden also Daten benötigt. Wichtig ist, dass Daten, die für das Training verwendet werden, in keinem Fall in der Testphase verwendet werden. Die vorhandenen Daten werden in zwei Datensets aufgeteilt werden, wobei die Datensets disjunkt sein müsssen. Disjunkt bedeutet, dass sich die Datensets nicht überschneiden.\n",
    "\n",
    "In der Praxis wird häufig noch eine Validierungsphase durchlaufen. Eine Validierungsphase ist dann notwendig, wenn es viele Hyperparamter gibt, die angepasst werden müssen. Im Gegensatz zu Parameter eines Modells, die während der Trainingsphase gelernt werden, sind Hyperparameter, Parameter, die Einstellungen am Algorithmus selbst erlauben. Wird das Ergebnis der Testphase verwendet um Hyperparameter anzupassen, ist es sinnvoll eine Validierungsphase vor der Testphase einzubauen. Die Validierungsphase wird dann verwendet um die optimale Einstellung der Hyperparamter zu finden. Sind die Einstellungen nach mehrmaligem Durchlauf gefunden, wird ein abschließender Test in der Testphase durchgeführt. In diesem Fall werden drei disjunkte Datensets benötigt. \n",
    "\n",
    "Da in diesem Workshop, der Fokus auf die Datenaufbereitung, -transformation und -verständnis liegen, und nicht auf der Optimierung der Hyperparameter eines Machine Learning Modells, werden aus Komplexitätsgründen nur ein Trainings- und Testdatenset verwendet."
   ]
  },
  {
   "cell_type": "code",
   "execution_count": null,
   "metadata": {},
   "outputs": [],
   "source": []
  },
  {
   "cell_type": "code",
   "execution_count": null,
   "metadata": {},
   "outputs": [],
   "source": []
  },
  {
   "cell_type": "code",
   "execution_count": null,
   "metadata": {},
   "outputs": [],
   "source": []
  },
  {
   "cell_type": "code",
   "execution_count": null,
   "metadata": {},
   "outputs": [],
   "source": []
  }
 ],
 "metadata": {
  "kernelspec": {
   "display_name": "Python 3",
   "language": "python",
   "name": "python3"
  },
  "language_info": {
   "codemirror_mode": {
    "name": "ipython",
    "version": 3
   },
   "file_extension": ".py",
   "mimetype": "text/x-python",
   "name": "python",
   "nbconvert_exporter": "python",
   "pygments_lexer": "ipython3",
   "version": "3.7.6"
  }
 },
 "nbformat": 4,
 "nbformat_minor": 4
}