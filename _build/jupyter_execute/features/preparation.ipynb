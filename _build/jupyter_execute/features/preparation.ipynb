{
 "cells": [
  {
   "cell_type": "markdown",
   "metadata": {},
   "source": [
    "## Ziele\n",
    "* Einen ersten Eindruck von den Daten gewinnen  \n",
    "* Grundlegendes Verständnis der Daten \n",
    "* Grundlegende Statistiken erheben und visualisieren\n",
    "* Fehlende Daten ermitteln\n",
    "* Umgang mit fehlenden Daten\n",
    "* Datensets erstellen\n",
    "\n",
    "## Inhalt\n",
    "\n",
    "tbd"
   ]
  },
  {
   "cell_type": "code",
   "execution_count": null,
   "metadata": {},
   "outputs": [],
   "source": []
  }
 ],
 "metadata": {
  "kernelspec": {
   "display_name": "Python 3",
   "language": "python",
   "name": "python3"
  },
  "language_info": {
   "codemirror_mode": {
    "name": "ipython",
    "version": 3
   },
   "file_extension": ".py",
   "mimetype": "text/x-python",
   "name": "python",
   "nbconvert_exporter": "python",
   "pygments_lexer": "ipython3",
   "version": "3.7.6"
  }
 },
 "nbformat": 4,
 "nbformat_minor": 4
}