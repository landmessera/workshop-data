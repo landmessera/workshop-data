{
 "cells": [
  {
   "cell_type": "markdown",
   "metadata": {},
   "source": [
    "# Transformation\n",
    "\n",
    "Mit Tranformationen werden in diesem Abschnitt gängige Methoden genannt, die nach der Aufbereitung der Daten und vor dem Trainieren eines Machine Learning Modells Verwendung finden. Im Abschnitt Aufbereitung der Daten wurden \n",
    "\n",
    "- überblick\n",
    "- fehlende Daten\n",
    "- Datensets erstellt\n",
    "\n",
    "- Theoretisch könnte jetzt mit dem Trainieren des Modells gestartet werden\n",
    "- Praktisch macht es Sinn weitere Schritte durchzuführen, bevor ein erstes Training stattfindet\n",
    "- Gängige Methoden - eigenen sich meist / relativ unabh. vom Anwendungsfall \n",
    "- Numerische daten: Outlier entfernen, Normalisierung, Diskretisierung\n",
    "- Kategorische Daten: One-Hot Encoding\n",
    "\n",
    "- zu Prüfen: ist One-Hot notwendig oder optional, ist Diskretisierung notwendig oder optional?\n",
    "\n",
    "Am Beispieldatenset Titanic werden die Methoden veranschaulicht. Darauf folgt eine Übung in der Sie selbst die Transformationsmethoden am Beispiel-Datenset Bike durchführen.\n",
    "\n",
    "In diesem Abschnitt werden eine Auswahl von gängige Tranformationen beschrieben und jeweils an einem Beispiel angewendet. \n",
    "\n"
   ]
  },
  {
   "cell_type": "markdown",
   "metadata": {},
   "source": [
    "Numerische Daten\n",
    "* Removing Outliers\n",
    "* Normalisierung\n",
    "* Diskretisierung\n",
    "\n",
    "Kategorische Daten\n",
    "* One-Hot Encoding"
   ]
  },
  {
   "cell_type": "markdown",
   "metadata": {},
   "source": [
    "\n",
    "```{toctree}\n",
    ":hidden:\n",
    ":titlesonly:\n",
    "\n",
    "\n",
    "transformationNumerical\n",
    "transformationCategorical\n",
    "exerciseTranformation\n",
    "```\n"
   ]
  }
 ],
 "metadata": {
  "kernelspec": {
   "display_name": "Python 3",
   "language": "python",
   "name": "python3"
  },
  "language_info": {
   "codemirror_mode": {
    "name": "ipython",
    "version": 3
   },
   "file_extension": ".py",
   "mimetype": "text/x-python",
   "name": "python",
   "nbconvert_exporter": "python",
   "pygments_lexer": "ipython3",
   "version": "3.7.6"
  }
 },
 "nbformat": 4,
 "nbformat_minor": 4
}