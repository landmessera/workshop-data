{
 "cells": [
  {
   "cell_type": "markdown",
   "metadata": {
    "tags": [
     "hide-cell"
    ]
   },
   "source": [
    "# Willkommen beim Onlinekurs"
   ]
  },
  {
   "cell_type": "markdown",
   "metadata": {},
   "source": [
    "## Daten für Machine Learning\n",
    "\n",
    "80% der Entwicklungszeit fließt in die Datenaufbereitung – lediglich 20% in die Auswahl und Anwendung von Machine Learning Verfahren.\n",
    "\n",
    "Um Machine Learning Verfahren erfolgreich einsetzen zu können werden Kenntnisse zur Datenaufbereitung, - transformation und Optimierung der Daten benötigt. Auch wenn häufig das Thema Datenaufbereitung als ein eher lästiges Thema angesehen wird, steckt in diesem Teil enormes Potenzial. Meist bringt eine Optimierung der Daten eine wesentlich größere Leistungssteigerung mit sich, als eine Optimierung der Machine Learning Verfahren. Fazit: Es lohnt sich Zeit in den Umgang mit Daten zu investieren.\n",
    "\n",
    "In diesem Online Kurs werden Grundlagen der Datenaufbereitung, Transformation und Optimierung vermittelt. Sie erarbeiten die Inhalte im Selbststudium, so können Sie entsprechend Ihrem Kenntnisstand im eigenen Tempo lernen. Der Kurs besteht aus drei Teilen. Jeder Teil enthält theoretische Inhalte und Übungsaufgaben in der Programmiersprache Python. Am Ende jedes Teils findet ein Online Meeting statt. Hier werden Fragen zu den Inhalten und Übungsaufgaben gemeinsam diskutiert.\n",
    "\n",
    "Voraussetzung: Programmier-Grundkenntnisse und Grundlagen der Programmiersprache Python."
   ]
  },
  {
   "cell_type": "markdown",
   "metadata": {},
   "source": [
    "\n",
    "```{toctree}\n",
    ":hidden:\n",
    ":titlesonly:\n",
    "\n",
    "\n",
    "datasets\n",
    "preparation\n",
    "transformation\n",
    "optimization\n",
    "```\n"
   ]
  }
 ],
 "metadata": {
  "kernelspec": {
   "display_name": "Python 3",
   "language": "python",
   "name": "python3"
  },
  "language_info": {
   "codemirror_mode": {
    "name": "ipython",
    "version": 3
   },
   "file_extension": ".py",
   "mimetype": "text/x-python",
   "name": "python",
   "nbconvert_exporter": "python",
   "pygments_lexer": "ipython3",
   "version": "3.7.6"
  }
 },
 "nbformat": 4,
 "nbformat_minor": 4
}