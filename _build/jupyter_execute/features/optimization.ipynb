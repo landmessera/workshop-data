{
 "cells": [
  {
   "cell_type": "markdown",
   "metadata": {},
   "source": [
    "# Optimierung"
   ]
  },
  {
   "cell_type": "markdown",
   "metadata": {},
   "source": [
    "## Ziele"
   ]
  },
  {
   "cell_type": "markdown",
   "metadata": {},
   "source": [
    "* Eine Baseline erstellen\n",
    "* Eine Pipeline für die Organisation nutzen\n",
    "* Optimale Parametereinstellungen finden\n",
    "* Daten verstehen und kombinieren\n",
    "* Wichtige Merkmale erkennen\n",
    "* Auswahl geeigneter Transformationen "
   ]
  },
  {
   "cell_type": "markdown",
   "metadata": {},
   "source": [
    "## Inhalt"
   ]
  },
  {
   "cell_type": "markdown",
   "metadata": {},
   "source": [
    "In den vorigen Abschnitten wurde eine Basis für die Anwendung von Machine Learning Verfahren geschaffen. Die Daten wurden aufbereitet und Transformationen angewendet. Doch woher weiß man ob die Transformationen gut waren? Und was bedeutet in diesem Kontext gut? \n",
    "\n",
    "Transformationen werden aus zwei Gründen angewendet, um\n",
    "1. die Daten in eine Form zu bringen, die den **Anforderungen** von Machine Learning Algorithmen entspricht.\n",
    "\n",
    "2. die **Leistung** zu steigern.\n",
    "\n",
    "Der erste Punkt lässt sich leicht prüfen indem ein gewünschter Machine Learning Algorithmus auf den Daten ausgeführt wird. Der zweite Punkt erfordert ein **Leistungsmaß**. Hierzu wird ein Leistungsmaß wie z.B. im Fall einer Klassifikationsaufgabe die Accuracy (Genaugkeitsmaß) gewählt. Der Algorithmus wird mit dem Trainingsdatenset trainiert und mit dem Validierungsdatenset validiert. Das Ergebnis ist ein sogenannter **Score**, der die Accuracy abbildet. "
   ]
  },
  {
   "cell_type": "markdown",
   "metadata": {},
   "source": [
    "```{admonition} Was ist ein guter Score?\n",
    "Bei einer Klassifikationsaufgabe in zwei Klassen sagt ein Accuracy-Score größer als 0,5 aus, dass es sich nicht um eine Zufallsentscheidung handelt. Also mehr als 50% der Daten wurden richtig klassifiziert. Welcher Accuracy-Score ausreichend ist, **hängt stark vom Anwendungsfall ab**. So kann es sein, dass z.B. bei einer Fehlererkennung in der Produktion ein Accuracy-Score von 0.80 akzeptabel ist. In der Medizin, bei der Erkennung von Krebs wird ein Accurcy-Score von 0.98 benötigt. Fehlentscheidungen sind in diesem Bereich nur in geringem Ausmaß zulässig.\n",
    "```"
   ]
  },
  {
   "cell_type": "markdown",
   "metadata": {},
   "source": [
    "Das erste Ergebnis dient als Basis für Optimierungen, es ist die sogenannte **Baseline**. Jede Änderung im Vorgehen wird anschließend validiert und mit der Baseline verglichen. Ist die Baseline besser, wird die Änderung verworfen, ist die Baseline schlechter, wird die Änderung behalten.\n",
    "\n",
    "In diesem Abschnitt wird am Beispiel Titanic gezeigt, wie man eine **Baseline erstellt, Optimierung der Parameter und Merkmale durchführt und diese validiert**."
   ]
  },
  {
   "cell_type": "code",
   "execution_count": null,
   "metadata": {},
   "outputs": [],
   "source": []
  },
  {
   "cell_type": "markdown",
   "metadata": {},
   "source": [
    "\n",
    "```{toctree}\n",
    ":hidden:\n",
    ":titlesonly:\n",
    "\n",
    "\n",
    "optimizationContent\n",
    "exerciseOptimization\n",
    "```\n"
   ]
  }
 ],
 "metadata": {
  "kernelspec": {
   "display_name": "Python 3",
   "language": "python",
   "name": "python3"
  },
  "language_info": {
   "codemirror_mode": {
    "name": "ipython",
    "version": 3
   },
   "file_extension": ".py",
   "mimetype": "text/x-python",
   "name": "python",
   "nbconvert_exporter": "python",
   "pygments_lexer": "ipython3",
   "version": "3.7.6"
  }
 },
 "nbformat": 4,
 "nbformat_minor": 4
}