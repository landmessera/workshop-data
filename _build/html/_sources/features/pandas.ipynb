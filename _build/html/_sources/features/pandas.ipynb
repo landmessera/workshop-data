{
 "cells": [
  {
   "cell_type": "markdown",
   "metadata": {},
   "source": [
    "# Pandas"
   ]
  },
  {
   "cell_type": "markdown",
   "metadata": {
    "tags": [
     "remove_cell"
    ]
   },
   "source": [
    "Pandas \n",
    "stellt umfangreiche Datenstrukturen und Funktionen zur Verfügung, um die Arbeit mit strukturierten Daten zu erleichtern.[^footnote1]  Die wichtigste Datenstruktur ist der sogenannte DataFrame. Es handelt sich um eine 2-dimensionale Struktur. Man kann sich den DatenFrame wie ein Excel-Sheet vorstellen. Die Daten werden in einer Tabelle erfasst, Zeilen und Spalten können benannt werden. Diese Kennzeichnung der Zeilen und Spalten sind ein wesentlicher Vorteil gegenüber anderen Formaten in der Programmierung wie z.B. einer einfachen Matrix. Numpy ist z.B. ein Python-Packet, dass für den Umgang mit numerischen Daten sehr beliebt ist und ebenfalls zahlreiche Funktionen bietet. Die zentrale Struktur ist hier das Numpy-Array. Man kann sich das Array als eine Abbildung von Matrizen vorstellen. Hier fehlt die Möglichkeit Spalten- und Zeilenbezeichnung vergeben zu können. "
   ]
  },
  {
   "cell_type": "code",
   "execution_count": null,
   "metadata": {
    "tags": [
     "remove_cell"
    ]
   },
   "outputs": [],
   "source": [
    "Pandas Datenformat\n",
    "* Dataframe\n",
    "* Series\n",
    "\n",
    "Pandas Frame erstellen\n",
    "Erste Zeilen ausgeben\n",
    "Shape ausgeben\n",
    "Info - Summary\n",
    "Spalten ausgeben\n",
    "Index ausgeben\n",
    "Eine Zeile auswählen\n",
    "Mehrere Zeilen auswählen\n",
    "Filter Rows by Column Value\n",
    "Plot\n",
    "Plot Scatter\n",
    "Create new Columns\n",
    "Mean of column\n",
    "Median of two columns\n",
    "describe\n",
    "count()\n",
    "Werte sortieren\n",
    "concat\n",
    "\n",
    "Daten aus CSV lesen\n",
    "DataFrame speichern\n",
    "DataFrame auslesen\n"
   ]
  },
  {
   "cell_type": "code",
   "execution_count": null,
   "metadata": {
    "tags": [
     "remove_cell"
    ]
   },
   "outputs": [],
   "source": [
    "data = pd.read_csv(\"../data/titanic/train.csv\")"
   ]
  },
  {
   "cell_type": "markdown",
   "metadata": {
    "tags": [
     "remove_cell"
    ]
   },
   "source": [
    "[^footnote1]: \"Python for Data Analysis\", Wes McKinney"
   ]
  },
  {
   "cell_type": "code",
   "execution_count": null,
   "metadata": {},
   "outputs": [],
   "source": []
  }
 ],
 "metadata": {
  "kernelspec": {
   "display_name": "Python 3",
   "language": "python",
   "name": "python3"
  },
  "language_info": {
   "codemirror_mode": {
    "name": "ipython",
    "version": 3
   },
   "file_extension": ".py",
   "mimetype": "text/x-python",
   "name": "python",
   "nbconvert_exporter": "python",
   "pygments_lexer": "ipython3",
   "version": "3.7.6"
  }
 },
 "nbformat": 4,
 "nbformat_minor": 4
}
