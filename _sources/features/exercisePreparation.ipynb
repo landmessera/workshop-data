{
 "cells": [
  {
   "cell_type": "markdown",
   "metadata": {},
   "source": [
    "# Übung"
   ]
  },
  {
   "cell_type": "markdown",
   "metadata": {},
   "source": [
    "## Überblick verschaffen"
   ]
  },
  {
   "cell_type": "markdown",
   "metadata": {},
   "source": [
    "### Python Packete importieren und Daten laden"
   ]
  },
  {
   "cell_type": "code",
   "execution_count": 1,
   "metadata": {
    "tags": [
     "hide-cell",
     "thebe-init"
    ]
   },
   "outputs": [
    {
     "name": "stdout",
     "output_type": "stream",
     "text": [
      "Requirement already satisfied: sklearn in /Users/alandmesser/anaconda3/envs/workshops/lib/python3.7/site-packages (0.0)\n",
      "Requirement already satisfied: scikit-learn in /Users/alandmesser/anaconda3/envs/workshops/lib/python3.7/site-packages (from sklearn) (0.24.2)\n",
      "Requirement already satisfied: threadpoolctl>=2.0.0 in /Users/alandmesser/anaconda3/envs/workshops/lib/python3.7/site-packages (from scikit-learn->sklearn) (2.1.0)\n",
      "Requirement already satisfied: joblib>=0.11 in /Users/alandmesser/anaconda3/envs/workshops/lib/python3.7/site-packages (from scikit-learn->sklearn) (0.14.1)\n",
      "Requirement already satisfied: numpy>=1.13.3 in /Users/alandmesser/anaconda3/envs/workshops/lib/python3.7/site-packages (from scikit-learn->sklearn) (1.18.1)\n",
      "Requirement already satisfied: scipy>=0.19.1 in /Users/alandmesser/anaconda3/envs/workshops/lib/python3.7/site-packages (from scikit-learn->sklearn) (1.4.1)\n"
     ]
    }
   ],
   "source": [
    "!pip install sklearn"
   ]
  },
  {
   "cell_type": "code",
   "execution_count": 2,
   "metadata": {
    "tags": [
     "thebe-init"
    ]
   },
   "outputs": [
    {
     "name": "stdout",
     "output_type": "stream",
     "text": [
      "1000 Datensätze geladen\n"
     ]
    }
   ],
   "source": [
    "# Packete importieren\n",
    "import pandas as pd\n",
    "import numpy as np\n",
    "import sklearn as sklearn\n",
    "import pickle\n",
    "from sklearn.model_selection import train_test_split\n",
    "\n",
    "# Daten von CSV in Pandas Dataframe laden\n",
    "data = pd.read_csv(\"../data/bikebuyers/bike_buyers.csv\")\n",
    "print(str(data.shape[0]) +' Datensätze geladen')"
   ]
  },
  {
   "cell_type": "markdown",
   "metadata": {},
   "source": [
    "### Task 1: Anzeigen der ersten Datensätze"
   ]
  },
  {
   "cell_type": "markdown",
   "metadata": {},
   "source": [
    "In der Variable data liegen die Daten in Form eines Panda Dataframe vor. Geben Sie die ersten 7 Datensätze dieses Pandas Datenframe aus. "
   ]
  },
  {
   "cell_type": "code",
   "execution_count": 3,
   "metadata": {},
   "outputs": [],
   "source": [
    "# Geben Sie Ihren Code hier ein."
   ]
  },
  {
   "cell_type": "markdown",
   "metadata": {},
   "source": [
    "```{tip}\n",
    "Die [head()-Methode](https://pandas.pydata.org/docs/reference/api/pandas.DataFrame.head.html) liefert die ersten Zeilen eines Pandas Datenframe.\n",
    "\n",
    "```"
   ]
  },
  {
   "cell_type": "markdown",
   "metadata": {
    "tags": [
     "hide-cell"
    ]
   },
   "source": [
    "````{Dropdown} Lösung Task 1\n",
    "  ```{code-block} python\n",
    "  data.head(7)\n",
    "  ```\n",
    "`````"
   ]
  },
  {
   "cell_type": "markdown",
   "metadata": {},
   "source": [
    "### Task 2: Beobachtungen aus den ersten 7 Datensätzen\n",
    "* Die Merkmale Gender und Home Owner enthalten <mark> [?] </mark>  \n",
    "* Die meisten Merkmale enthalten <mark> [?] </mark>  \n",
    "* Die numerischen Merkmale unterscheiden sich stark in <mark> [?] </mark> "
   ]
  },
  {
   "cell_type": "markdown",
   "metadata": {},
   "source": [
    "```{Dropdown} Lösung Task 2\n",
    "* Die Merkmale Gender und Home Owner enthalten fehlende Werte\n",
    "* Die meisten Merkmale enthalten nicht-numerische Daten\n",
    "* Die numerischen Merkmale unterscheiden sich stark in den Wertebereichen\n",
    "```"
   ]
  },
  {
   "cell_type": "markdown",
   "metadata": {},
   "source": [
    "### Task 3: Datenset beschreiben"
   ]
  },
  {
   "cell_type": "code",
   "execution_count": 4,
   "metadata": {},
   "outputs": [],
   "source": [
    "# Geben Sie hier den Code ein, \n",
    "# um die Informationen über die Daten zu erhalten."
   ]
  },
  {
   "cell_type": "markdown",
   "metadata": {},
   "source": [
    "Das Datenset besteht aus  \n",
    "<mark> [?] </mark> Datensätzen  \n",
    "<mark> [?] </mark> Merkmalen  \n",
    "  \n",
    "Die Zielvariable ist: <mark> [?] </mark>  \n",
    "      \n",
    "<mark> [?] </mark> Merkmale sind vom Typ Float  \n",
    "<mark> [?] </mark> Merkmale sind vom Typ Integer  \n",
    "<mark> [?] </mark> Merkmale sind Objekte  "
   ]
  },
  {
   "cell_type": "markdown",
   "metadata": {},
   "source": [
    "```{tip}\n",
    "Die [info()-Methode](https://pandas.pydata.org/docs/reference/api/pandas.DataFrame.info.html) liefert eine Zusammenfassung des Pandas Datenframe.\n",
    "\n",
    "```"
   ]
  },
  {
   "cell_type": "markdown",
   "metadata": {},
   "source": [
    "````{Dropdown} Lösung Task 3\n",
    "Informationen erhalten über den Aufruf der Info-Methode\n",
    "  ```{code-block} python\n",
    "  data.info()\n",
    "  ```\n",
    "Das Datenset besteht aus   \n",
    "1000 Datensätzen  \n",
    "12 Merkmalen  \n",
    "  \n",
    "Die Zielvariable ist: Purchased Bike   \n",
    "  \n",
    "4 Merkmale sind vom Typ Float  \n",
    "1 Merkmal vom Typ Integer  \n",
    "7 Merkmale sind Objekte  \n",
    "````"
   ]
  },
  {
   "cell_type": "markdown",
   "metadata": {},
   "source": [
    "### Beschreibung der Merkmale:\n",
    "* **ID**: Eindeutige Id des Kunden\n",
    "* **Marital Status**: Familienstand [Verheirated, Single]\n",
    "* **Gender**: Geschlecht [Male, Female]\n",
    "* **Income**: Jahreseinkommen \n",
    "* **Children**: Anzahl an Kinder\n",
    "* **Education**: Bildungsstand  \n",
    "[Bachelor, Partial College, High School, Graduate Degree, Partial High School]\n",
    "* **Occupation**: Berufsstand  \n",
    "[Professional, Skilled Manual, Clerical, Management, Manual]\n",
    "* **Home Owner**: Hausbesitzer  [True, False]\n",
    "* **Cars**: Anzahl an Autos\n",
    "* **Commute Distance**: Pendeldistanz\n",
    "* **Region**: Region [North America, Europe, Pacific]\n",
    "* **Age**: Alter \n",
    "* **Fahrrad gekauft** [True, False]"
   ]
  },
  {
   "cell_type": "markdown",
   "metadata": {},
   "source": [
    "### Task 4: Datentypen bestimmen"
   ]
  },
  {
   "cell_type": "markdown",
   "metadata": {},
   "source": [
    "Numerische Daten:\n",
    "* Diskret\n",
    "    * <mark> [?] </mark>\n",
    "    * <mark> [...] </mark>\n",
    "* Kontinuierlich\n",
    "    * <mark> [?] </mark>\n",
    "    * <mark> [...] </mark>\n",
    "    \n",
    "Kategorische Daten:\n",
    "* Nominal\n",
    "    * <mark> [?] </mark>\n",
    "    * <mark> [...] </mark>\n",
    "* Ordinal\n",
    "    * <mark> [?] </mark>\n",
    "    * <mark> [...] </mark>"
   ]
  },
  {
   "cell_type": "markdown",
   "metadata": {},
   "source": [
    "```{Dropdown} Lösung Task 4\n",
    "Numerische Daten:\n",
    "* Diskret\n",
    "    * Cars\n",
    "    * Children\n",
    "* Kontinuierlich\n",
    "    * Income\n",
    "    * Age\n",
    "    \n",
    "Kategorische Daten:\n",
    "* Nominal\n",
    "    * ID\n",
    "    * Marital Status\n",
    "    * Gender\n",
    "    * Occupation\n",
    "    * Home Owner\n",
    "    * Region\n",
    "* Ordinal\n",
    "    * Education\n",
    "    * Commute Distance\n",
    "```"
   ]
  },
  {
   "cell_type": "markdown",
   "metadata": {},
   "source": [
    "###  Task 5: Deskriptive Statistiken erstellen"
   ]
  },
  {
   "cell_type": "code",
   "execution_count": 5,
   "metadata": {},
   "outputs": [],
   "source": [
    "# Geben Sie Ihren Code hier ein."
   ]
  },
  {
   "cell_type": "markdown",
   "metadata": {},
   "source": [
    "```{tip}\n",
    "Die [describe()-Methode](https://pandas.pydata.org/docs/reference/api/pandas.DataFrame.describe.html)  liefert deskriptive Statistiken des Pandas Datenframe.\n",
    "\n",
    "```"
   ]
  },
  {
   "cell_type": "markdown",
   "metadata": {},
   "source": [
    "````{Dropdown} Lösung Task 5\n",
    "  ```{code-block} python\n",
    "  data.describe()\n",
    "  ```\n",
    "`````"
   ]
  },
  {
   "cell_type": "markdown",
   "metadata": {},
   "source": [
    "#### Task 6: Beobachtungen notieren"
   ]
  },
  {
   "cell_type": "markdown",
   "metadata": {},
   "source": [
    "* Das Einkommen der meisten Kunden (75%) liegt unter <mark> [?] </mark>.\n",
    "* Die Standardabweichung des Einkommen beträgt <mark> [?] </mark>.    \n",
    "* 50% der Kunden haben mehr als <mark> [?] </mark> Kinder.  \n",
    "* Das Alter der Kunden liegt im Durchschnitt bei <mark> [?] </mark> Autos.  \n",
    "* Die Anzahl der Autos pro Kunde variiert zwischen <mark> [?] </mark> und <mark> [?] </mark>.  \n",
    "* 25% der Kunden sind jünger als <mark> [?] </mark> Jahre.  "
   ]
  },
  {
   "cell_type": "markdown",
   "metadata": {},
   "source": [
    "```{Dropdown} Lösung Task 6\n",
    "* Das Einkommen der meisten Kunden (75%) liegt unter <mark> 70000 </mark>.\n",
    "* Die Standardabweichung des Einkommen beträgt <mark> 31067,82 </mark>.\n",
    "* 50% der Kunden haben mehr als <mark> ein </mark> Kind.\n",
    "* Das Alter der Kunden liegt im Durchschnitt bei <mark> 44,18 </mark> Jahren.\n",
    "* Die Anzahl der Autos pro Kunde variiert zwischen <mark> 0 </mark> und <mark> 4 </mark>.\n",
    "* 25% der Kunden sind jünger als <mark> 35 </mark> Jahre.\n",
    "````"
   ]
  },
  {
   "cell_type": "markdown",
   "metadata": {},
   "source": [
    "## Fehlende Werte korrigieren"
   ]
  },
  {
   "cell_type": "markdown",
   "metadata": {},
   "source": [
    "### Task 7: Fehlende Werte ermitteln (absolut)"
   ]
  },
  {
   "cell_type": "markdown",
   "metadata": {},
   "source": [
    "Ermitteln Sie die absoulte Zahl der fehlenden Werte pro Spalte und speichern Sie diese in einer Variablen namens \"missingValuesCount\"."
   ]
  },
  {
   "cell_type": "code",
   "execution_count": 6,
   "metadata": {},
   "outputs": [],
   "source": [
    "# Geben Sie Ihren Code hier ein."
   ]
  },
  {
   "cell_type": "markdown",
   "metadata": {},
   "source": [
    "```{tip}\n",
    "Die [isnull()-Methode](https://pandas.pydata.org/docs/reference/api/pandas.isnull.html)  liefert für jeden Wert des Pandas Datenframe einen Boolean-Wert, true oder false. True bedeutet, es handelt sich um einen fehlenden Wert.\n",
    "\n",
    "Die [sum()-Methode](https://pandas.pydata.org/docs/reference/api/pandas.DataFrame.sum.html) liefert die Anzahl der True Werte pro Spalte in einer Pandas Series (bei Default-Einstellung)\n",
    "\n",
    "```"
   ]
  },
  {
   "cell_type": "markdown",
   "metadata": {},
   "source": [
    "````{Dropdown} Lösung Task 7\n",
    "  ```{code-block} python\n",
    "  missingValuesCount = data.isnull().sum()\n",
    "  missingValuesCount\n",
    "  ```\n",
    "````"
   ]
  },
  {
   "cell_type": "markdown",
   "metadata": {},
   "source": [
    "### Task 8: Fehlende Werte ermitteln (absolut und prozentual)"
   ]
  },
  {
   "cell_type": "markdown",
   "metadata": {},
   "source": [
    "Geben Sie den absoluten und prozentualen-Wert pro Spalte an. Implementieren Sie folgende Schritte\n",
    "* Sortieren Sie das zuvor gespeicherte Ergebnis (missingValuesCount) in absteigender Reihenfolge und speichern Sie das Ergebnis in einer neuen Variable namens \"total\".\n",
    "* Berechnen Sie den prozentualen Anteil der fehlenden Werte an der Gesamtzahl der der Datensätze, sortieren Sie das Ergebnis absteigend und speichern es in einer neuen Variable namens \"percentage\".\n",
    "* Erstellen Sie einen Pandas Datenframe mit 2 Spalten. Die erste Spalte mit der Bezeichnung \"Gesamt\" und den Daten der Variable total und die zweite Spalte mit der Bezeichnung \"Prozentual\" und den Daten der Variable percentage.\n",
    "* Speichern Sie den Pandas Datenframe in einer neuen Variable namens \"missingData\".\n",
    "* Geben Sie den erstellten Pandas Datenframe aus."
   ]
  },
  {
   "cell_type": "code",
   "execution_count": 7,
   "metadata": {},
   "outputs": [],
   "source": [
    "# Geben Sie Ihren Code hier ein."
   ]
  },
  {
   "cell_type": "markdown",
   "metadata": {},
   "source": [
    "```{tip}\n",
    "Die [sort_values()-Methode](https://pandas.pydata.org/pandas-docs/stable/reference/api/pandas.DataFrame.sort_values.html) sortiert die Pandas Series anhand der enthaltenen Werte.\n",
    "\n",
    "Die [shape()-Methode](https://pandas.pydata.org/docs/reference/api/pandas.DataFrame.shape.html) liefert die Dimensionen eines Pandas Datenframe in einem Tuple, wobei der erste Wert, der Anzahl der Zeilen entspricht und der zweite Wert, der Anzahl der Spalten.\n",
    "\n",
    "Unter Verwendung der [DataFrame-Methode](https://pandas.pydata.org/pandas-docs/stable/reference/api/pandas.DataFrame.html) und der Übergabe eines Dictionaries, wobei die Keys der Spaltenbezeichnung und die Values der Pandas Series entsprechen, lassen sich Pandas Dataframes erstellen.\n",
    "\n",
    "```"
   ]
  },
  {
   "cell_type": "markdown",
   "metadata": {},
   "source": [
    "````{Dropdown} Lösung Task 7\n",
    "  ```{code-block} python\n",
    "  total = missingValuesCount.sort_values(ascending=False)\n",
    "  percentage = (missingValuesCount/data.shape[0]*100).sort_values(ascending=False)\n",
    "  missingData = pd.DataFrame({'Gesamt':total, 'Prozentual':percentage})\n",
    "  missingData\n",
    "  ```\n",
    "````"
   ]
  },
  {
   "cell_type": "markdown",
   "metadata": {},
   "source": [
    "### Task 9: Notieren Sie Ihre Beobachtungen\n",
    "\n",
    "Was fällt Ihnen bei den ermittelten Werten aus Task 8 auf? Ist die Anzahl der fehlenden Werte groß oder klein? Was ist könnte die Ursache für die fehlenden Werte sein? Existieren die Werte und wurden nicht erfasst?"
   ]
  },
  {
   "cell_type": "markdown",
   "metadata": {},
   "source": [
    "Beobachtungen:\n",
    "* <mark> [?] </mark>\n",
    "* <mark> [?] </mark>"
   ]
  },
  {
   "cell_type": "markdown",
   "metadata": {},
   "source": [
    "```{Dropdown} Lösung Task 9\n",
    "* Die fehlenden Werte pro Spalte sind **sehr gering** und liegen zwischen 0.4 und 1.1 Prozent.\n",
    "* Alle fehlende Werte (Cars, Age, Children, Marital Status, Income, Home Owner) **existieren** vermutlich, wurden jedoch nicht erfasst.\n",
    "```"
   ]
  },
  {
   "cell_type": "markdown",
   "metadata": {},
   "source": [
    "### Task 10: Fehlende Werte ersetzen/entfernen\n",
    "\n",
    "Entscheiden Sie sich bei jedem Merkmal für eine Methode und wenden diese auf die Datensätze, welche fehlende Werte enthalten an."
   ]
  },
  {
   "cell_type": "markdown",
   "metadata": {},
   "source": [
    "``` {Admonition} Wiederholung\n",
    "Möglicher Umgang mit fehlenden Werten:\n",
    "1. Datensätze entfernen\n",
    "2. Ersetzen durch Median/Mittelwert/Mode\n",
    "3. Eine eigene Kategorie zuweisen\n",
    "4. Fehlende Werte schätzen\n",
    "\n",
    "```"
   ]
  },
  {
   "cell_type": "markdown",
   "metadata": {},
   "source": [
    "```{tip}\n",
    "Die [hist()-Methode](https://pandas.pydata.org/docs/reference/api/pandas.DataFrame.hist.html)  kann auf eine Spalte des Datenframes angewendet werden um die Verteilung der Daten zu erhalten.\n",
    "\n",
    "```"
   ]
  },
  {
   "cell_type": "markdown",
   "metadata": {},
   "source": [
    "#### a) Gender"
   ]
  },
  {
   "cell_type": "code",
   "execution_count": 8,
   "metadata": {},
   "outputs": [],
   "source": [
    "# Geben Sie Ihren Code hier ein."
   ]
  },
  {
   "cell_type": "markdown",
   "metadata": {},
   "source": [
    "````{Dropdown} Lösung Task 10a\n",
    "\n",
    "Beim Gender Merkmal handelt es sich um kategorische Daten. Aufgrund der geringen Anzahl an fehlenden Werten in Bezug auf die Gesamtanzahl des Datensets, macht es Sinn die fehlenden Datensätze zu entfernen oder die fehlenden Werte mit dem häufigsten vorkommenden Wert zu ersetzen.\n",
    "\n",
    "  ```{code-block} python\n",
    "  data['Gender'].hist()\n",
    "  \n",
    "  data['Gender'].fillna(data['Gender'].mode()[0], inplace=True)\n",
    "  ```\n",
    "````"
   ]
  },
  {
   "cell_type": "markdown",
   "metadata": {},
   "source": [
    "#### b) Cars"
   ]
  },
  {
   "cell_type": "code",
   "execution_count": 9,
   "metadata": {},
   "outputs": [],
   "source": [
    "# Geben Sie Ihren Code hier ein."
   ]
  },
  {
   "cell_type": "markdown",
   "metadata": {},
   "source": [
    "````{Dropdown} Lösung Task 10b\n",
    "\n",
    "Beim Cars Merkmal handelt es sich um numerisch diskrete Daten. Aufgrund der geringen Anzahl an fehlenden Werten in Bezug auf die Gesamtanzahl des Datensets, macht es Sinn die fehlenden Datensätze zu entfernen oder die fehlenden Werte mit dem häufigsten vorkommenden Wert zu ersetzen.\n",
    "\n",
    "  ```{code-block} python\n",
    "  data['Cars'].hist()\n",
    "  \n",
    "  data['Cars'].fillna(data['Cars'].mode()[0], inplace=True)\n",
    "  ```\n",
    "````"
   ]
  },
  {
   "cell_type": "markdown",
   "metadata": {},
   "source": [
    "#### c) Age"
   ]
  },
  {
   "cell_type": "code",
   "execution_count": 10,
   "metadata": {},
   "outputs": [],
   "source": [
    "# Geben Sie Ihren Code hier ein."
   ]
  },
  {
   "cell_type": "markdown",
   "metadata": {},
   "source": [
    "````{Dropdown} Lösung Task 10c\n",
    "\n",
    "Beim Age Merkmal handelt es sich um numerische Daten. Aufgrund der geringen Anzahl an fehlenden Werten in Bezug auf die Gesamtanzahl des Datensets, macht es Sinn die fehlenden Datensätze zu entfernen oder die fehlenden Werte zu ersetzen. Aufgrund der rechtsschiefen Verteilung der Daten bietet sich der Median als Ersatzwert an.\n",
    "\n",
    "  ```{code-block} python\n",
    "  data['Age'].hist()\n",
    "  \n",
    "  data['Age'].fillna(data['Age'].median(), inplace=True)\n",
    "  ```\n",
    "````"
   ]
  },
  {
   "cell_type": "markdown",
   "metadata": {},
   "source": [
    "#### d) Children"
   ]
  },
  {
   "cell_type": "code",
   "execution_count": 11,
   "metadata": {},
   "outputs": [],
   "source": [
    "# Geben Sie Ihren Code hier ein."
   ]
  },
  {
   "cell_type": "markdown",
   "metadata": {},
   "source": [
    "````{Dropdown} Lösung Task 10d\n",
    "\n",
    "Beim Merkmal Children handelt es sich um diskrete Daten. Aufgrund der geringen Anzahl an fehlenden Werten in Bezug auf die Gesamtanzahl des Datensets, macht es Sinn die fehlenden Datensätze zu entfernen oder die fehlenden Werte mit dem häufigsten vorkommenden Wert zu ersetzen. \n",
    "\n",
    "  ```{code-block} python\n",
    "  data['Children'].hist()\n",
    "  \n",
    "  data['Children'].fillna(data['Children'].mode()[0], inplace=True)\n",
    "  ```\n",
    "````"
   ]
  },
  {
   "cell_type": "markdown",
   "metadata": {},
   "source": [
    "#### e) Marital Status"
   ]
  },
  {
   "cell_type": "code",
   "execution_count": 12,
   "metadata": {},
   "outputs": [],
   "source": [
    "# Geben Sie Ihren Code hier ein."
   ]
  },
  {
   "cell_type": "markdown",
   "metadata": {},
   "source": [
    "````{Dropdown} Lösung Task 10e\n",
    "\n",
    "Beim Merkmal Marital Status handelt es sich um nominale Daten. Aufgrund der geringen Anzahl an fehlenden Werten in Bezug auf die Gesamtanzahl des Datensets, macht es Sinn die fehlenden Datensätze zu entfernen oder die fehlenden Werte mit dem häufigsten vorkommenden Wert zu ersetzen. \n",
    "\n",
    "  ```{code-block} python\n",
    "  data['Marital Status'].hist()\n",
    "  \n",
    "  data['Marital Status'].fillna(data['Marital Status'].mode()[0], inplace=True)\n",
    "  ```\n",
    "````"
   ]
  },
  {
   "cell_type": "markdown",
   "metadata": {},
   "source": [
    "#### f) Income"
   ]
  },
  {
   "cell_type": "code",
   "execution_count": 13,
   "metadata": {},
   "outputs": [],
   "source": [
    "# Geben Sie Ihren Code hier ein."
   ]
  },
  {
   "cell_type": "markdown",
   "metadata": {},
   "source": [
    "````{Dropdown} Lösung Task 10f\n",
    "\n",
    "Beim Merkmal Income handelt es sich um kontinuierliche Daten. Aufgrund der geringen Anzahl an fehlenden Werten in Bezug auf die Gesamtanzahl des Datensets, macht es Sinn die fehlenden Datensätze zu entfernen oder die fehlenden Werte mit dem Mittelwert zu ersetzen.\n",
    "\n",
    "  ```{code-block} python\n",
    "  data['Income'].hist()\n",
    "  \n",
    "  data['Income'].fillna(data['Income'].mean(), inplace=True)\n",
    "  ```\n",
    "````"
   ]
  },
  {
   "cell_type": "markdown",
   "metadata": {},
   "source": [
    "#### g) Home Owner"
   ]
  },
  {
   "cell_type": "code",
   "execution_count": 14,
   "metadata": {},
   "outputs": [],
   "source": [
    "# Geben Sie Ihren Code hier ein."
   ]
  },
  {
   "cell_type": "markdown",
   "metadata": {},
   "source": [
    "````{Dropdown} Lösung Task 10g\n",
    "\n",
    "Beim Merkmal Owner handelt es sich um nominale Daten. Aufgrund der geringen Anzahl an fehlenden Werten in Bezug auf die Gesamtanzahl des Datensets, macht es Sinn die fehlenden Datensätze zu entfernen oder die fehlenden Werte mit dem häufigsten vorkommenden Wert zu ersetzen. \n",
    "\n",
    "  ```{code-block} python\n",
    "  data['Home Owner'].hist()\n",
    "  \n",
    "  data['Home Owner'].fillna(data['Home Owner'].mode()[0], inplace=True)\n",
    "  ```\n",
    "````"
   ]
  },
  {
   "cell_type": "markdown",
   "metadata": {},
   "source": [
    "### Task 11: Überprüfen der fehlenden Werte"
   ]
  },
  {
   "cell_type": "markdown",
   "metadata": {},
   "source": [
    "Geben Sie erneut die Anzahl der fehlenden Werte aus. Es sollten jetzt keine fehlende Werte existieren."
   ]
  },
  {
   "cell_type": "code",
   "execution_count": 15,
   "metadata": {},
   "outputs": [],
   "source": [
    "# Geben Sie Ihren Code hier ein."
   ]
  },
  {
   "cell_type": "markdown",
   "metadata": {},
   "source": [
    "````{Dropdown} Lösung Task 11\n",
    "\n",
    "  ```{code-block} python\n",
    "  missingValuesCount = data.isnull().sum()\n",
    "  missingValuesCount\n",
    "  ```\n",
    "````"
   ]
  },
  {
   "cell_type": "markdown",
   "metadata": {},
   "source": [
    "## Datensets erstellen"
   ]
  },
  {
   "cell_type": "markdown",
   "metadata": {},
   "source": [
    "### Task 12: Prüfen ob das Datenset balanciert ist"
   ]
  },
  {
   "cell_type": "markdown",
   "metadata": {},
   "source": [
    "Geben Sie das Histogram der Labels aus und prüfen Sie ob das Datenset balanciert ist."
   ]
  },
  {
   "cell_type": "code",
   "execution_count": 16,
   "metadata": {},
   "outputs": [],
   "source": [
    "# Geben Sie Ihren Code hier ein."
   ]
  },
  {
   "cell_type": "markdown",
   "metadata": {},
   "source": [
    "````{Dropdown} Lösung Task 12\n",
    "\n",
    "  ```{code-block} python\n",
    "  data['Purchased Bike'].hist()\n",
    "  ```\n",
    "  \n",
    "  Die Anzahl der Datensätze pro Klasse sind nahezu gleichverteilt.\n",
    "````"
   ]
  },
  {
   "cell_type": "markdown",
   "metadata": {},
   "source": [
    "### Task 13: Erstellen der Datensets"
   ]
  },
  {
   "cell_type": "markdown",
   "metadata": {},
   "source": [
    "Erstellen Sie die Datensets für Training, Validierung und Test mit Hilfe der Methode train_test_split aus der Scikit-Learn-Bibliothek. Folgende Eigenschaften sollen die Datensets besitzen:\n",
    "* disjunkt\n",
    "* 60% Trainingsdaten, 20% Validierungsdaten, 20% Testdaten\n",
    "* reproduzierbar\n",
    "* gleiche Verteilung der Datensätze pro Klasse in jedem Datenset"
   ]
  },
  {
   "cell_type": "code",
   "execution_count": 17,
   "metadata": {},
   "outputs": [],
   "source": [
    "# Geben Sie Ihren Code hier ein."
   ]
  },
  {
   "cell_type": "markdown",
   "metadata": {},
   "source": [
    "```{tip}\n",
    "Der bestehende Pandas Datenframe muss vor dem Aufruf der train_test_split-Methode in Merkmale und Label zerlegt werden. Mit der [drop()-Methode](https://pandas.pydata.org/docs/reference/api/pandas.DataFrame.drop.html) lassen sich einzelne Spalten aus einem Datenframe entfernen.\n",
    "```"
   ]
  },
  {
   "cell_type": "markdown",
   "metadata": {},
   "source": [
    "````{Dropdown} Lösung Task 13\n",
    "\n",
    "  ```{code-block} python\n",
    "  X = data.drop(['Purchased Bike'], axis=1)\n",
    "  y = data['Purchased Bike']\n",
    "\n",
    "  X_train, X_test, y_train, y_test = train_test_split(X, y, test_size=0.2, random_state=1, stratify=y)\n",
    "  X_train, X_val, y_train, y_val = train_test_split(X_train, y_train, test_size=0.25, random_state=1, stratify=y_train)\n",
    "  ```\n",
    "````"
   ]
  },
  {
   "cell_type": "markdown",
   "metadata": {},
   "source": [
    "### Task 14: Anzahl der Datensätze pro Datensets ausgeben"
   ]
  },
  {
   "cell_type": "markdown",
   "metadata": {},
   "source": [
    "Geben Sie die Gesamtanzahl der Datensätze und die Anzahl der Datensätze pro Datenset aus."
   ]
  },
  {
   "cell_type": "code",
   "execution_count": 18,
   "metadata": {},
   "outputs": [],
   "source": [
    "# Geben Sie Ihren Code hier ein."
   ]
  },
  {
   "cell_type": "markdown",
   "metadata": {},
   "source": [
    "````{Dropdown} Lösung Task 14\n",
    "\n",
    "  ```{code-block} python\n",
    "  print('Anzahl der Datensätze')\n",
    "  print('* Gesamt: ', X.shape[0])   \n",
    "  print('* Trainingsdatenset:', X_train.shape[0])\n",
    "  print('* Validierungsdatenset:', X_val.shape[0])\n",
    "  print('* Testdatenset:', X_test.shape[0])\n",
    "  ```\n",
    "````"
   ]
  },
  {
   "cell_type": "markdown",
   "metadata": {},
   "source": [
    "### Task 15: Verteilung der Daten pro Klasse"
   ]
  },
  {
   "cell_type": "markdown",
   "metadata": {},
   "source": [
    "Geben Sie die Anzahl der Daten pro Klasse in Prozent für die  \n",
    "* gesamten Daten (Datenbasis vor der Splittung in die Datensets)  \n",
    "* Trainingsdaten   \n",
    "an."
   ]
  },
  {
   "cell_type": "code",
   "execution_count": 19,
   "metadata": {},
   "outputs": [],
   "source": [
    "# Geben Sie Ihren Code hier ein."
   ]
  },
  {
   "cell_type": "markdown",
   "metadata": {},
   "source": [
    "````{Dropdown} Lösung Task 15\n",
    "\n",
    "  ```{code-block} python\n",
    "  print('Gesamte Datenbasis')\n",
    "  print(y.value_counts()/y.shape[0])\n",
    "  print()\n",
    "  print('Trainingsdaten')\n",
    "  print(y_train.value_counts()/y_train.shape[0])\n",
    "  ```\n",
    "````"
   ]
  },
  {
   "cell_type": "markdown",
   "metadata": {},
   "source": [
    "### Task 16: Ergebnis speichern"
   ]
  },
  {
   "cell_type": "markdown",
   "metadata": {},
   "source": [
    "Erstellen Sie ein Python Dictionary mit den Keys\n",
    "* X_train\n",
    "* y_train\n",
    "* X_val\n",
    "* y_val\n",
    "* X_test\n",
    "* y_test\n",
    "\n",
    "in einer neuen Variable namens \"dataset\" und speichern das Dictionary unter '../output/datasets.pkl' ab."
   ]
  },
  {
   "cell_type": "code",
   "execution_count": 20,
   "metadata": {},
   "outputs": [],
   "source": [
    "# Geben Sie Ihren Code hier ein."
   ]
  },
  {
   "cell_type": "markdown",
   "metadata": {},
   "source": [
    "```{Tip}\n",
    "Die [dump()-Methode](https://docs.python.org/3/library/pickle.html) ermöglicht eine einfache Speicherung von Python Objekten im .pkl-Format\n",
    "```"
   ]
  },
  {
   "cell_type": "markdown",
   "metadata": {},
   "source": [
    "````{Dropdown} Lösung Task 16\n",
    "\n",
    "  ```{code-block} python\n",
    "  datasets = {\n",
    "      'X_train': X_train,\n",
    "      'y_train': y_train,\n",
    "      'X_val': X_val,\n",
    "      'y_val': y_val,\n",
    "      'X_test': X_test,\n",
    "      'y_test': y_test\n",
    "  }\n",
    "\n",
    "  with open('../output/bikebuyers/datasets.pkl', 'wb') as handle:\n",
    "      pickle.dump(datasets, handle)\n",
    "  ```\n",
    "````"
   ]
  },
  {
   "cell_type": "markdown",
   "metadata": {},
   "source": [
    "### Task 17: Einlesen und Ausgabe der Validierungsmerkmale"
   ]
  },
  {
   "cell_type": "markdown",
   "metadata": {},
   "source": [
    "Lesen Sie die gespeicherte Datensets aus der pickle-Datei aus und geben Sie die ersten 5 Zeilen der Validierungsmerkmale aus."
   ]
  },
  {
   "cell_type": "code",
   "execution_count": 21,
   "metadata": {},
   "outputs": [],
   "source": [
    "# Geben Sie Ihren Code hier ein."
   ]
  },
  {
   "cell_type": "markdown",
   "metadata": {},
   "source": [
    "```{Tip}\n",
    "Die [load()-Methode](https://docs.python.org/3/library/pickle.html) ermöglicht das Auslesen von Inhalten aus .pkl-Dateien\n",
    "```"
   ]
  },
  {
   "cell_type": "markdown",
   "metadata": {},
   "source": [
    "````{Dropdown} Lösung Task 17\n",
    "\n",
    "  ```{code-block} python\n",
    "  f = open('../data/bikebuyers/datasets.pkl', 'rb')\n",
    "  datasets = pickle.load(f)\n",
    "\n",
    "  datasets['X_val'].head()\n",
    "  ```\n",
    "````\n"
   ]
  },
  {
   "cell_type": "markdown",
   "metadata": {},
   "source": [
    "### Lösungen Teil 1: Fehlende Werte ermitteln, ersetzen und speichern"
   ]
  },
  {
   "cell_type": "code",
   "execution_count": 23,
   "metadata": {},
   "outputs": [],
   "source": [
    "# Code Zelle zum testen"
   ]
  },
  {
   "cell_type": "markdown",
   "metadata": {},
   "source": [
    "````{Dropdown} Lösungen kompakt\n",
    "\n",
    "  ```{code-block} python\n",
    "  # Fehlende Werte ermitteln\n",
    "  missingValuesCount = data.isnull().sum()\n",
    "  print('|nFehlede Werte prüfen vor Aufbereitung')\n",
    "  print(missingValuesCount)\n",
    "\n",
    "  # Fehlende Werte ersetzen\n",
    "  data['Gender'].fillna(data['Gender'].mode()[0], inplace=True)\n",
    "  data['Cars'].fillna(data['Cars'].mode()[0], inplace=True)\n",
    "  data['Age'].fillna(data['Age'].median(), inplace=True)\n",
    "  data['Children'].fillna(data['Children'].mode()[0], inplace=True)\n",
    "  data['Marital Status'].fillna(data['Marital Status'].mode()[0], inplace=True)\n",
    "  data['Income'].fillna(data['Income'].mean(), inplace=True)\n",
    "  data['Home Owner'].fillna(data['Home Owner'].mode()[0], inplace=True)\n",
    "\n",
    "  # Fehlende Werte ermitteln/prüfen\n",
    "  missingValuesCount = data.isnull().sum()\n",
    "  print('|nFehlede Werte prüfen nach Aufbereitung')\n",
    "  print(missingValuesCount)\n",
    "\n",
    "  # Datensets erstellen\n",
    "  X = data.drop(['Purchased Bike'], axis=1)\n",
    "  y = data['Purchased Bike']\n",
    "\n",
    "  X_train, X_test, y_train, y_test = train_test_split(X, y, test_size=0.2, random_state=1, stratify=y)\n",
    "  X_train, X_val, y_train, y_val = train_test_split(X_train, y_train, test_size=0.25, random_state=1, stratify=y_train)\n",
    "\n",
    "  # Datensets speichern\n",
    "  datasets = {\n",
    "      'X_train': X_train,\n",
    "      'y_train': y_train,\n",
    "      'X_val': X_val,\n",
    "      'y_val': y_val,\n",
    "      'X_test': X_test,\n",
    "      'y_test': y_test\n",
    "  }\n",
    "\n",
    "  with open('../output/bikebuyers/datasets.pkl', 'wb') as handle:\n",
    "      pickle.dump(datasets, handle)\n",
    "\n",
    "  with open('../output/bikebuyers/datasets.pkl', 'rb') as handle:\n",
    "      ds = pickle.load(handle)\n",
    "      print('|nErste Zeilen des geladenen Trainingsdatenset:')\n",
    "      print(ds['X_train'].head())\n",
    "  ```\n",
    "````"
   ]
  }
 ],
 "metadata": {
  "kernelspec": {
   "display_name": "Python 3",
   "language": "python",
   "name": "python3"
  },
  "language_info": {
   "codemirror_mode": {
    "name": "ipython",
    "version": 3
   },
   "file_extension": ".py",
   "mimetype": "text/x-python",
   "name": "python",
   "nbconvert_exporter": "python",
   "pygments_lexer": "ipython3",
   "version": "3.7.6"
  }
 },
 "nbformat": 4,
 "nbformat_minor": 4
}
